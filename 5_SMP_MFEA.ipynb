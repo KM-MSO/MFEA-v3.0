{
 "cells": [
  {
   "cell_type": "code",
   "execution_count": 1,
   "metadata": {},
   "outputs": [],
   "source": [
    "from MFEA_lib.model import SMP_MFEA\n",
    "from MFEA_lib.model.utils import *\n",
    "from MFEA_lib.operators.Crossover import *\n",
    "from MFEA_lib.operators.Mutation import *\n",
    "from MFEA_lib.operators.Selection import *\n",
    "from MFEA_lib.operators.Search import *\n",
    "from MFEA_lib.tasks.Benchmark.Competitions import CEC17_benchmark, GECCO20_benchmark_50tasks, WCCI22_benchmark\n"
   ]
  },
  {
   "cell_type": "markdown",
   "metadata": {},
   "source": [
    "##### Benchmark"
   ]
  },
  {
   "cell_type": "code",
   "execution_count": 4,
   "metadata": {},
   "outputs": [],
   "source": [
    "# complex\n",
    "ls_benchmark = []\n",
    "ls_IndClass = []\n",
    "name_benchmark = []\n",
    "path = './RESULTS/result/WCCI22_complex/SMP_v2/'\n",
    "\n",
    "for i in range(1, 10, 1):\n",
    "# for i in [3, 6, 8, 10]:\n",
    "    t, ic = CEC17_benchmark.get_2tasks_benchmark(i)\n",
    "    ls_benchmark.append(t)\n",
    "    ls_IndClass.append(ic)\n",
    "    name_benchmark.append(i)\n"
   ]
  },
  {
   "cell_type": "code",
   "execution_count": 2,
   "metadata": {},
   "outputs": [],
   "source": [
    "# cec17\n",
    "t, ic = CEC17_benchmark.get_10tasks_benchmark()\n",
    "\n",
    "ls_benchmark = [t]\n",
    "ls_IndClass = [ic]\n",
    "name_benchmark = [\"cec17\"]"
   ]
  },
  {
   "cell_type": "code",
   "execution_count": null,
   "metadata": {},
   "outputs": [],
   "source": [
    "# gecco20\n",
    "ls_benchmark = []\n",
    "ls_IndClass = []\n",
    "name_benchmark = []\n",
    "path = './RESULTS/result/GECCO20/SMP_v2/'\n",
    "\n",
    "for i in range(1, 11, 1):\n",
    "    t, ic = WCCI22_benchmark.get_50tasks_benchmark(i)\n",
    "    ls_benchmark.append(t)\n",
    "    ls_IndClass.append(ic)\n",
    "    name_benchmark.append(i)"
   ]
  },
  {
   "cell_type": "code",
   "execution_count": 16,
   "metadata": {},
   "outputs": [],
   "source": [
    "import numpy as np \n",
    "# %%timeit\n",
    "for i in range(int(1000 * 100 * 5 )):\n",
    "    (np.random.choice(np.arange(1000)))\n",
    "    \n"
   ]
  },
  {
   "cell_type": "code",
   "execution_count": 15,
   "metadata": {},
   "outputs": [],
   "source": [
    "import numpy as np \n",
    "# %%timeit\n",
    "for i in range(int(1000 * 100 * 5 * 10)):\n",
    "    (np.random.choice(np.arange(100)))\n",
    "    \n"
   ]
  },
  {
   "cell_type": "code",
   "execution_count": 18,
   "metadata": {},
   "outputs": [],
   "source": [
    "# path = './RESULTS/result/CEC17_10tasks/SMP_KL/'\n",
    "from MFEA_lib.model import SMP_MFEA, MFEA_base, SA_MFEA, AbstractModel\n",
    "from MFEA_lib.model.utils import *\n",
    "from MFEA_lib.operators.Crossover import *\n",
    "from MFEA_lib.operators.Mutation import *\n",
    "from MFEA_lib.operators.Selection import *\n",
    "from MFEA_lib.operators.Search import *\n",
    "from MFEA_lib.tasks.Benchmark.Competitions import CEC17_benchmark, GECCO20_benchmark_50tasks, WCCI22_benchmark\n",
    "\n",
    "model = loadModel(\"RESULTS/result/CEC17/MFEA/cec17.mso\", ls_tasks= CEC17_benchmark.get_10tasks_benchmark()[0])\n",
    "model2 = loadModel(\"RESULTS/result/CEC17/SMFEA/cec17.mso\", ls_tasks= CEC17_benchmark.get_10tasks_benchmark()[0])\n"
   ]
  },
  {
   "cell_type": "code",
   "execution_count": 19,
   "metadata": {},
   "outputs": [
    {
     "name": "stdout",
     "output_type": "stream",
     "text": [
      "105.31906151771545\n",
      "76.2058367729187\n"
     ]
    }
   ],
   "source": [
    "print(model.total_time)\n",
    "print(model2.total_time)"
   ]
  },
  {
   "cell_type": "markdown",
   "metadata": {},
   "source": [
    "##### Code đơn"
   ]
  },
  {
   "cell_type": "code",
   "execution_count": 1,
   "metadata": {},
   "outputs": [
    {
     "name": "stdout",
     "output_type": "stream",
     "text": [
      "Seed: 0 -- Time: 00m 54.46s  100 % [====================>]  Pop_size: 1.90E+02  ,  Cost: 2.02E-26  2.58E-26  0.00E+00  0.00E+00  1.63E-24  5.02E-14  0.00E+00  6.36E-04  0.00E+00  5.47E+01  ,  \n",
      "[0.1 0.1 0.1 0.1 0.1 0.1 0.1 0.1 0.1 0.1]\n",
      "[100368, 99578, 100030, 100334, 100022, 100302, 100758, 99316, 99392, 99930]\n",
      "END!\n",
      "Seed: 1 -- Time: 01m 18.49s  100 % [====================>]  Pop_size: 1.90E+02  ,  Cost: 1.60E-26  2.58E-26  0.00E+00  0.00E+00  1.33E-24  5.02E-14  0.00E+00  6.36E-04  0.00E+00  3.08E+01  ,  \n",
      "[0.1 0.1 0.1 0.1 0.1 0.1 0.1 0.1 0.1 0.1]\n",
      "[99894, 100466, 100076, 100288, 100652, 99228, 100620, 99524, 100086, 99196]\n",
      "END!\n",
      "DONE!\n",
      "Saved\n"
     ]
    }
   ],
   "source": [
    "# path = './RESULTS/result/CEC17_10tasks/SMP_KL/'\n",
    "from MFEA_lib.model import SMP_MFEA, MFEA_base, SA_MFEA, AbstractModel\n",
    "from MFEA_lib.model.utils import *\n",
    "from MFEA_lib.operators.Crossover import *\n",
    "from MFEA_lib.operators.Mutation import *\n",
    "from MFEA_lib.operators.Selection import *\n",
    "from MFEA_lib.operators.Search import *\n",
    "from MFEA_lib.tasks.Benchmark.Competitions import CEC17_benchmark, GECCO20_benchmark_50tasks, WCCI22_benchmark\n",
    "\n",
    "import os \n",
    "import sys \n",
    "import numpy as np \n",
    "import pandas as pd\n",
    "import scipy \n",
    "\n",
    "import matplotlib.pyplot as plt \n",
    "\n",
    "\n",
    "# # gecco20\n",
    "# ls_benchmark = []\n",
    "# ls_IndClass = []\n",
    "# name_benchmark = []\n",
    "path = './RESULTS/result/CEC17/SMFEA-DaS/'\n",
    "\n",
    "# for i in range(1, 11, 1):\n",
    "#     t, ic = WCCI22_benchmark.get_50tasks_benchmark(i)\n",
    "#     ls_benchmark.append(t)\n",
    "#     ls_IndClass.append(ic)\n",
    "#     name_benchmark.append(i)\n",
    "\n",
    "\n",
    "# cec17\n",
    "t, ic = CEC17_benchmark.get_10tasks_benchmark()\n",
    "\n",
    "ls_benchmark = [t]\n",
    "ls_IndClass = [ic]\n",
    "name_benchmark = [\"cec17\"]\n",
    "\n",
    "smpModel = MultiBenchmark(\n",
    "    ls_benchmark= ls_benchmark,\n",
    "    name_benchmark= name_benchmark,\n",
    "    ls_IndClass= ls_IndClass,\n",
    "    model= SMP_MFEA\n",
    ")\n",
    "smpModel.compile( \n",
    "    # crossover = KL_SBXCrossover(nc= 2, u= 0.001, conf_thres= 1),\n",
    "    crossover = SBX_Crossover(nc = 2),\n",
    "    mutation = PolynomialMutation(nm = 5, pm= 1),\n",
    "    selection= ElitismSelection(random_percent= 0.1),\n",
    "    search= L_SHADE(len_mem= 15),\n",
    "    attr_tasks = ['crossover', 'mutation', 'search'],\n",
    ")\n",
    "smpModel.fit(\n",
    "    nb_generations= 1000, nb_inds_each_task= 100, nb_inds_min= 20,\n",
    "    lr = 0.1, p_const_intra= 0., prob_search = 0., lc_nums = 200,\n",
    "    nb_epochs_stop= 1000, swap_po= False,\n",
    "    evaluate_initial_skillFactor= True\n",
    ")\n",
    "a = smpModel.run(\n",
    "    nb_run= 2,     \n",
    "    save_path= path\n",
    ")"
   ]
  },
  {
   "cell_type": "code",
   "execution_count": null,
   "metadata": {},
   "outputs": [],
   "source": [
    "np.mean([model.history_cost[-1] for model in smpModel.ls_model[0].ls_model], axis = 0)"
   ]
  },
  {
   "cell_type": "code",
   "execution_count": 4,
   "metadata": {},
   "outputs": [
    {
     "data": {
      "text/plain": [
       "array([5.97044641e-22, 2.42607335e-26, 0.00000000e+00, 0.00000000e+00,\n",
       "       9.43140297e-18, 4.35503485e-14, 0.00000000e+00, 6.36378325e-04,\n",
       "       0.00000000e+00, 0.00000000e+00])"
      ]
     },
     "execution_count": 4,
     "metadata": {},
     "output_type": "execute_result"
    }
   ],
   "source": [
    "np.mean([model.history_cost[-1] for model in smpModel.ls_model[0].ls_model], axis = 0)"
   ]
  },
  {
   "cell_type": "markdown",
   "metadata": {},
   "source": [
    "##### Complex"
   ]
  },
  {
   "cell_type": "code",
   "execution_count": null,
   "metadata": {},
   "outputs": [],
   "source": [
    "SMP_v2 = loadModel('./RESULTS/result/WCCI22_complex/SMP_v2/8.mso', ls_tasks= t)\n",
    "SMP_v2.render_smp()"
   ]
  },
  {
   "cell_type": "code",
   "execution_count": null,
   "metadata": {},
   "outputs": [],
   "source": [
    "# complex\n",
    "ls_benchmark = []\n",
    "ls_IndClass = []\n",
    "name_benchmark = []\n",
    "path = './RESULTS/result/WCCI22_complex/SMP_v2/'\n",
    "\n",
    "for i in range(1, 11, 1):\n",
    "# for i in [3, 6, 10]:\n",
    "    t, ic = WCCI22_benchmark.get_complex_benchmark(i)\n",
    "    ls_benchmark.append(t)\n",
    "    ls_IndClass.append(ic)\n",
    "    name_benchmark.append(i)\n",
    "    \n",
    "compare = CompareResultBenchmark(\n",
    "    path_folder=\"./RESULTS/result/WCCI22_complex\", \n",
    "    ls_benchmark= ls_benchmark\n",
    ")\n",
    "compare.load_folder()"
   ]
  },
  {
   "cell_type": "code",
   "execution_count": null,
   "metadata": {},
   "outputs": [],
   "source": [
    "compare.summarizing_compare_result(idx_main_algo= 5, min_value= 1e-6)"
   ]
  },
  {
   "cell_type": "code",
   "execution_count": null,
   "metadata": {},
   "outputs": [],
   "source": [
    "compare.show_compare_detail(idx_main_algo=0)"
   ]
  },
  {
   "cell_type": "markdown",
   "metadata": {},
   "source": [
    "##### cec17"
   ]
  },
  {
   "cell_type": "code",
   "execution_count": null,
   "metadata": {},
   "outputs": [],
   "source": [
    "t, ic = CEC17_benchmark.get_10tasks_benchmark()"
   ]
  },
  {
   "cell_type": "code",
   "execution_count": null,
   "metadata": {},
   "outputs": [],
   "source": [
    "# SMP_KL = loadModel('./RESULTS/result/CEC17/SMP_v2/cec17.mso', ls_tasks= t)"
   ]
  },
  {
   "cell_type": "code",
   "execution_count": null,
   "metadata": {},
   "outputs": [],
   "source": [
    "\n",
    "# MFEA_model = loadModel('./RESULTS/__static__/CEC17_10tasks/MFEA_cec17.mso', ls_tasks= t)\n",
    "# EBS_GA_model = loadModel('./RESULTS/__static__/CEC17_10tasks/EBS_GA_cec17.mso', ls_tasks= t)\n",
    "# MaTDE_model = loadModel('./RESULTS/__static__/CEC17_10tasks/MaTDE_cec17.mso', ls_tasks= t)\n",
    "# MaTGA_model = loadModel('./RESULTS/__static__/CEC17_10tasks/MaTGA_cec17.mso', ls_tasks= t)\n",
    "# MTEA_AD_model = loadModel('./RESULTS/__static__/CEC17_10tasks/MTEA_AD_cec17.mso', ls_tasks= t)\n",
    "# SA_model = loadModel('./RESULTS/__static__/CEC17_10tasks/SA_cec17.mso', ls_tasks= t)\n",
    "# LSA_model = loadModel('./RESULTS/__static__/CEC17_10tasks/LSA_cec17.mso', ls_tasks= t)\n",
    "# SMP_SBX = loadModel('./RESULTS/__static__/CEC17_10tasks/SMP_SBX.mso', ls_tasks= t)\n",
    "SMP_SBX = loadModel('./RESULTS/result/CEC17_10tasks/SMP/cec17.mso', ls_tasks= t)\n",
    "SMP_KL = loadModel('./RESULTS/result/CEC17_10tasks/SMP_KL/cec17.mso', ls_tasks= t)\n",
    "\n",
    "\n",
    "compare = CompareModel(\n",
    "    models = [\n",
    "        # MFEA_model, EBS_GA_model, MaTDE_model, MaTGA_model, MTEA_AD_model, SA_model, LSA_model, \n",
    "    SMP_SBX, SMP_KL],\n",
    "    label= \\\n",
    "        # [...] * 7 + \\\n",
    "            ['SMP_SBX', 'SMP + KL'],\n",
    ")\n",
    "compare.render(    \n",
    "    shape = (2, 5),\n",
    "    min_cost= 0,\n",
    "    step= 100,\n",
    "    yscale= 'log'\n",
    ")\n",
    "\n",
    "# SMP_newSBX.render_smp(shape= (3, 5), step = 1)\n",
    "# SMP_KL.render_smp(shape= (2, 5), step = 1)\n",
    "print()"
   ]
  },
  {
   "cell_type": "markdown",
   "metadata": {},
   "source": [
    "30 times"
   ]
  },
  {
   "cell_type": "code",
   "execution_count": null,
   "metadata": {},
   "outputs": [],
   "source": [
    "# smpModel = MultiTimeModel(model= SMP_MFEA)\n",
    "# smpModel.compile(\n",
    "#     tasks= cec17_10tasks,\n",
    "#     crossover= newSBX(nc = 2, gamma= 0.4, alpha = 6),\n",
    "#     # mutation= NoMutation(),\n",
    "#     mutation = GMMScale(alpha = 3, lenMem= 20, default_scale= 0.5),\n",
    "#     selection= ElitismSelection(random_percent= 0.),\n",
    "# )\n",
    "# smpModel.fit(\n",
    "#     nb_generations= 10, nb_inds_each_task= 100, nb_inds_min= 20,\n",
    "#     lr = 1.5, p_const_intra= 0.3, p_mutate= 0.,\n",
    "#     nb_epochs_stop= 50, \n",
    "#     evaluate_initial_skillFactor= True\n",
    "# )\n",
    "# smpModel.run(\n",
    "#     nb_run= 30,\n",
    "#     save_path= './RESULTS/smpMFEA_cec17.mso'\n",
    "# )"
   ]
  },
  {
   "cell_type": "code",
   "execution_count": null,
   "metadata": {},
   "outputs": [],
   "source": [
    "# smpModel.render_history(shape = (2, 5), yscale= 'log')\n",
    "# print()"
   ]
  },
  {
   "cell_type": "code",
   "execution_count": null,
   "metadata": {},
   "outputs": [],
   "source": [
    "# smpModel.render_smp(step = 1, get_host= True)\n",
    "# print()"
   ]
  },
  {
   "cell_type": "markdown",
   "metadata": {},
   "source": []
  },
  {
   "cell_type": "markdown",
   "metadata": {},
   "source": [
    "##### GECCO20"
   ]
  },
  {
   "cell_type": "code",
   "execution_count": null,
   "metadata": {},
   "outputs": [],
   "source": [
    "SMP_v2 = loadModel('./RESULTS/result/GECCO20/SMP_v2/3.mso', ls_tasks= t)\n",
    "SMP_v2.render_smp()"
   ]
  },
  {
   "cell_type": "code",
   "execution_count": null,
   "metadata": {},
   "outputs": [],
   "source": [
    "# gecco20\n",
    "ls_benchmark = []\n",
    "ls_IndClass = []\n",
    "name_benchmark = []\n",
    "path = './RESULTS/result/GECCO20/SMP_v2/'\n",
    "\n",
    "for i in range(1, 11, 1):\n",
    "    t, ic = WCCI22_benchmark.get_50tasks_benchmark(i)\n",
    "    ls_benchmark.append(t)\n",
    "    ls_IndClass.append(ic)\n",
    "    name_benchmark.append(i)"
   ]
  },
  {
   "cell_type": "code",
   "execution_count": null,
   "metadata": {},
   "outputs": [],
   "source": [
    "compare = CompareResultBenchmark(\n",
    "    path_folder=\"./RESULTS/result/GECCO20/\", \n",
    "    ls_benchmark= ls_benchmark\n",
    ")\n",
    "compare.load_folder()"
   ]
  },
  {
   "cell_type": "code",
   "execution_count": null,
   "metadata": {},
   "outputs": [],
   "source": [
    "compare.summarizing_compare_result(idx_main_algo= 6, min_value= 1e-6)"
   ]
  },
  {
   "cell_type": "code",
   "execution_count": null,
   "metadata": {},
   "outputs": [],
   "source": [
    "compare.show_compare_detail(idx_main_algo=0, min_value= 1e-6)"
   ]
  }
 ],
 "metadata": {
  "kernelspec": {
   "display_name": "Python 3",
   "language": "python",
   "name": "python3"
  },
  "language_info": {
   "codemirror_mode": {
    "name": "ipython",
    "version": 3
   },
   "file_extension": ".py",
   "mimetype": "text/x-python",
   "name": "python",
   "nbconvert_exporter": "python",
   "pygments_lexer": "ipython3",
   "version": "3.10.8"
  },
  "orig_nbformat": 4,
  "vscode": {
   "interpreter": {
    "hash": "b8d1b4907526f6c690b53306aa8099ff2044546e3fe13a31c92e6decc3bd4676"
   }
  }
 },
 "nbformat": 4,
 "nbformat_minor": 2
}
