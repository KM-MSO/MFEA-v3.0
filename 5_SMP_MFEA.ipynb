{
 "cells": [
  {
   "cell_type": "code",
   "execution_count": 1,
   "metadata": {},
   "outputs": [],
   "source": [
    "from MFEA_lib.model import SMP_MFEA\n",
    "from MFEA_lib.model.utils import *\n",
    "from MFEA_lib.operators.Crossover import *\n",
    "from MFEA_lib.operators.Mutation import *\n",
    "from MFEA_lib.operators.Selection import *\n",
    "from MFEA_lib.operators.Search import *\n",
    "from MFEA_lib.tasks.Benchmark.Competitions import CEC17_benchmark, GECCO20_benchmark_50tasks, WCCI22_benchmark\n"
   ]
  },
  {
   "cell_type": "markdown",
   "metadata": {},
   "source": [
    "##### Benchmark"
   ]
  },
  {
   "cell_type": "code",
   "execution_count": 2,
   "metadata": {},
   "outputs": [],
   "source": [
    "# complex\n",
    "ls_benchmark = []\n",
    "ls_IndClass = []\n",
    "name_benchmark = []\n",
    "path = './RESULTS/result/WCCI22_complex/SMP_v2/'\n",
    "\n",
    "for i in range(1, 11, 1):\n",
    "# for i in [3, 6, 8, 10]:\n",
    "    t, ic = WCCI22_benchmark.get_complex_benchmark(i)\n",
    "    ls_benchmark.append(t)\n",
    "    ls_IndClass.append(ic)\n",
    "    name_benchmark.append(i)\n"
   ]
  },
  {
   "cell_type": "code",
   "execution_count": 2,
   "metadata": {},
   "outputs": [],
   "source": [
    "# cec17\n",
    "t, ic = CEC17_benchmark.get_10tasks_benchmark()\n",
    "\n",
    "ls_benchmark = [t]\n",
    "ls_IndClass = [ic]\n",
    "name_benchmark = [\"cec17\"]"
   ]
  },
  {
   "cell_type": "code",
   "execution_count": null,
   "metadata": {},
   "outputs": [],
   "source": [
    "# gecco20\n",
    "ls_benchmark = []\n",
    "ls_IndClass = []\n",
    "name_benchmark = []\n",
    "path = './RESULTS/result/GECCO20/SMP_v2/'\n",
    "\n",
    "for i in range(1, 11, 1):\n",
    "    t, ic = WCCI22_benchmark.get_50tasks_benchmark(i)\n",
    "    ls_benchmark.append(t)\n",
    "    ls_IndClass.append(ic)\n",
    "    name_benchmark.append(i)"
   ]
  },
  {
   "cell_type": "markdown",
   "metadata": {},
   "source": [
    "##### Code đơn"
   ]
  },
  {
   "cell_type": "code",
   "execution_count": 4,
   "metadata": {},
   "outputs": [
    {
     "name": "stdout",
     "output_type": "stream",
     "text": [
      "Seed: 0 -- Time: 00m 40.02s  100 % [====================>]  Pop_size: 1.90E+02  ,  Cost: 2.04E-26  2.75E-26  0.00E+00  0.00E+00  1.45E-24  4.31E-14  0.00E+00  6.36E-04  0.00E+00  0.00E+00  ,  \n",
      "[0.1 0.1 0.1 0.1 0.1 0.1 0.1 0.1 0.1 0.1]\n",
      "[100308, 100450, 99762, 100358, 100380, 99486, 99338, 99072, 100438, 100438]\n",
      "END!\n",
      "Seed: 1 -- Time: 00m 41.33s  100 % [====================>]  Pop_size: 1.90E+02  ,  Cost: 1.45E-26  2.42E-26  0.00E+00  0.00E+00  1.45E-24  4.31E-14  0.00E+00  6.36E-04  0.00E+00  0.00E+00  ,  \n",
      "[0.1 0.1 0.1 0.1 0.1 0.1 0.1 0.1 0.1 0.1]\n",
      "[99826, 100258, 100434, 99692, 100478, 99860, 99158, 99616, 100322, 100386]\n",
      "END!\n",
      "Seed: 2 -- Time: 00m 2.77s    6 % [=>                  ]  Pop_size: 9.50E+02  ,  Cost: 6.55E+03  7.74E+03  7.95E+03  1.46E+01  6.04E+07  1.64E+01  4.01E+01  1.36E+04  3.15E+00  2.88E+03  ,  "
     ]
    },
    {
     "ename": "AttributeError",
     "evalue": "'model' object has no attribute 'last_pop'",
     "output_type": "error",
     "traceback": [
      "\u001b[0;31m---------------------------------------------------------------------------\u001b[0m",
      "\u001b[0;31mKeyboardInterrupt\u001b[0m                         Traceback (most recent call last)",
      "File \u001b[0;32m~/Desktop/code/MFEA-v3.0/MFEA_lib/model/utils/MultiTimeModel.py:198\u001b[0m, in \u001b[0;36mMultiTimeModel.run\u001b[0;34m(self, nb_run, save_path, seed_arr, random_seed, replace_folder)\u001b[0m\n\u001b[1;32m    197\u001b[0m model\u001b[39m.\u001b[39mcompile(\u001b[39m*\u001b[39m\u001b[39m*\u001b[39m\u001b[39mself\u001b[39m\u001b[39m.\u001b[39mcompile_kwargs)\n\u001b[0;32m--> 198\u001b[0m model\u001b[39m.\u001b[39;49mfit(\u001b[39m*\u001b[39;49m\u001b[39mself\u001b[39;49m\u001b[39m.\u001b[39;49margs, \u001b[39m*\u001b[39;49m\u001b[39m*\u001b[39;49m\u001b[39mself\u001b[39;49m\u001b[39m.\u001b[39;49mkwargs)\n\u001b[1;32m    200\u001b[0m \u001b[39mself\u001b[39m\u001b[39m.\u001b[39mtotal_time \u001b[39m+\u001b[39m\u001b[39m=\u001b[39m model\u001b[39m.\u001b[39mtime_end \u001b[39m-\u001b[39m model\u001b[39m.\u001b[39mtime_begin\n",
      "File \u001b[0;32m~/Desktop/code/MFEA-v3.0/MFEA_lib/model/SMP_MFEA.py:232\u001b[0m, in \u001b[0;36mmodel.fit\u001b[0;34m(self, nb_generations, nb_inds_each_task, nb_inds_min, lr, p_const_intra, prob_search, lc_nums, nb_epochs_stop, evaluate_initial_skillFactor, *args, **kwargs)\u001b[0m\n\u001b[1;32m    231\u001b[0m \u001b[39m# get smp \u001b[39;00m\n\u001b[0;32m--> 232\u001b[0m smp \u001b[39m=\u001b[39m M_smp[skf_pa]\u001b[39m.\u001b[39;49mget_smp()\n\u001b[1;32m    235\u001b[0m \u001b[39m# choose subpop of mother pb\u001b[39;00m\n",
      "File \u001b[0;32m~/Desktop/code/MFEA-v3.0/MFEA_lib/model/SMP_MFEA.py:36\u001b[0m, in \u001b[0;36mmodel.battle_smp.get_smp\u001b[0;34m(self)\u001b[0m\n\u001b[1;32m     35\u001b[0m \u001b[39mdef\u001b[39;00m \u001b[39mget_smp\u001b[39m(\u001b[39mself\u001b[39m) \u001b[39m-\u001b[39m\u001b[39m>\u001b[39m np\u001b[39m.\u001b[39mndarray:\n\u001b[0;32m---> 36\u001b[0m     \u001b[39mreturn\u001b[39;00m np\u001b[39m.\u001b[39;49mcopy(\u001b[39mself\u001b[39;49m\u001b[39m.\u001b[39;49mSMP_include_host)\n",
      "File \u001b[0;32m<__array_function__ internals>:180\u001b[0m, in \u001b[0;36mcopy\u001b[0;34m(*args, **kwargs)\u001b[0m\n",
      "File \u001b[0;32m~/opt/anaconda3/envs/mfea_env/lib/python3.8/site-packages/numpy/lib/function_base.py:959\u001b[0m, in \u001b[0;36mcopy\u001b[0;34m(a, order, subok)\u001b[0m\n\u001b[1;32m    872\u001b[0m \u001b[39m\"\"\"\u001b[39;00m\n\u001b[1;32m    873\u001b[0m \u001b[39mReturn an array copy of the given object.\u001b[39;00m\n\u001b[1;32m    874\u001b[0m \n\u001b[0;32m   (...)\u001b[0m\n\u001b[1;32m    957\u001b[0m \n\u001b[1;32m    958\u001b[0m \u001b[39m\"\"\"\u001b[39;00m\n\u001b[0;32m--> 959\u001b[0m \u001b[39mreturn\u001b[39;00m array(a, order\u001b[39m=\u001b[39;49morder, subok\u001b[39m=\u001b[39;49msubok, copy\u001b[39m=\u001b[39;49m\u001b[39mTrue\u001b[39;49;00m)\n",
      "\u001b[0;31mKeyboardInterrupt\u001b[0m: ",
      "\nDuring handling of the above exception, another exception occurred:\n",
      "\u001b[0;31mAttributeError\u001b[0m                            Traceback (most recent call last)",
      "\u001b[1;32m/Users/kluvta/Desktop/code/MFEA-v3.0/5_SMP_MFEA.ipynb Cell 7\u001b[0m in \u001b[0;36m<cell line: 23>\u001b[0;34m()\u001b[0m\n\u001b[1;32m      <a href='vscode-notebook-cell:/Users/kluvta/Desktop/code/MFEA-v3.0/5_SMP_MFEA.ipynb#W6sZmlsZQ%3D%3D?line=8'>9</a>\u001b[0m smpModel\u001b[39m.\u001b[39mcompile( \n\u001b[1;32m     <a href='vscode-notebook-cell:/Users/kluvta/Desktop/code/MFEA-v3.0/5_SMP_MFEA.ipynb#W6sZmlsZQ%3D%3D?line=9'>10</a>\u001b[0m     crossover \u001b[39m=\u001b[39m KL_SBXCrossover(nc\u001b[39m=\u001b[39m \u001b[39m2\u001b[39m, u\u001b[39m=\u001b[39m \u001b[39m0.001\u001b[39m, conf_thres\u001b[39m=\u001b[39m \u001b[39m1\u001b[39m),\n\u001b[1;32m     <a href='vscode-notebook-cell:/Users/kluvta/Desktop/code/MFEA-v3.0/5_SMP_MFEA.ipynb#W6sZmlsZQ%3D%3D?line=10'>11</a>\u001b[0m     \u001b[39m# crossover = SBX_Crossover(nc = 2),\u001b[39;00m\n\u001b[0;32m   (...)\u001b[0m\n\u001b[1;32m     <a href='vscode-notebook-cell:/Users/kluvta/Desktop/code/MFEA-v3.0/5_SMP_MFEA.ipynb#W6sZmlsZQ%3D%3D?line=14'>15</a>\u001b[0m     attr_tasks \u001b[39m=\u001b[39m [\u001b[39m'\u001b[39m\u001b[39mcrossover\u001b[39m\u001b[39m'\u001b[39m, \u001b[39m'\u001b[39m\u001b[39mmutation\u001b[39m\u001b[39m'\u001b[39m, \u001b[39m'\u001b[39m\u001b[39msearch\u001b[39m\u001b[39m'\u001b[39m],\n\u001b[1;32m     <a href='vscode-notebook-cell:/Users/kluvta/Desktop/code/MFEA-v3.0/5_SMP_MFEA.ipynb#W6sZmlsZQ%3D%3D?line=15'>16</a>\u001b[0m )\n\u001b[1;32m     <a href='vscode-notebook-cell:/Users/kluvta/Desktop/code/MFEA-v3.0/5_SMP_MFEA.ipynb#W6sZmlsZQ%3D%3D?line=16'>17</a>\u001b[0m smpModel\u001b[39m.\u001b[39mfit(\n\u001b[1;32m     <a href='vscode-notebook-cell:/Users/kluvta/Desktop/code/MFEA-v3.0/5_SMP_MFEA.ipynb#W6sZmlsZQ%3D%3D?line=17'>18</a>\u001b[0m     nb_generations\u001b[39m=\u001b[39m \u001b[39m1000\u001b[39m, nb_inds_each_task\u001b[39m=\u001b[39m \u001b[39m100\u001b[39m, nb_inds_min\u001b[39m=\u001b[39m \u001b[39m20\u001b[39m,\n\u001b[1;32m     <a href='vscode-notebook-cell:/Users/kluvta/Desktop/code/MFEA-v3.0/5_SMP_MFEA.ipynb#W6sZmlsZQ%3D%3D?line=18'>19</a>\u001b[0m     lr \u001b[39m=\u001b[39m \u001b[39m0.1\u001b[39m, p_const_intra\u001b[39m=\u001b[39m \u001b[39m0.\u001b[39m, prob_search \u001b[39m=\u001b[39m \u001b[39m0.\u001b[39m, lc_nums \u001b[39m=\u001b[39m \u001b[39m200\u001b[39m,\n\u001b[1;32m     <a href='vscode-notebook-cell:/Users/kluvta/Desktop/code/MFEA-v3.0/5_SMP_MFEA.ipynb#W6sZmlsZQ%3D%3D?line=19'>20</a>\u001b[0m     nb_epochs_stop\u001b[39m=\u001b[39m \u001b[39m50\u001b[39m, swap_po\u001b[39m=\u001b[39m \u001b[39mFalse\u001b[39;00m,\n\u001b[1;32m     <a href='vscode-notebook-cell:/Users/kluvta/Desktop/code/MFEA-v3.0/5_SMP_MFEA.ipynb#W6sZmlsZQ%3D%3D?line=20'>21</a>\u001b[0m     evaluate_initial_skillFactor\u001b[39m=\u001b[39m \u001b[39mTrue\u001b[39;00m\n\u001b[1;32m     <a href='vscode-notebook-cell:/Users/kluvta/Desktop/code/MFEA-v3.0/5_SMP_MFEA.ipynb#W6sZmlsZQ%3D%3D?line=21'>22</a>\u001b[0m )\n\u001b[0;32m---> <a href='vscode-notebook-cell:/Users/kluvta/Desktop/code/MFEA-v3.0/5_SMP_MFEA.ipynb#W6sZmlsZQ%3D%3D?line=22'>23</a>\u001b[0m a \u001b[39m=\u001b[39m smpModel\u001b[39m.\u001b[39;49mrun(\n\u001b[1;32m     <a href='vscode-notebook-cell:/Users/kluvta/Desktop/code/MFEA-v3.0/5_SMP_MFEA.ipynb#W6sZmlsZQ%3D%3D?line=23'>24</a>\u001b[0m     nb_run\u001b[39m=\u001b[39;49m \u001b[39m30\u001b[39;49m,     \n\u001b[1;32m     <a href='vscode-notebook-cell:/Users/kluvta/Desktop/code/MFEA-v3.0/5_SMP_MFEA.ipynb#W6sZmlsZQ%3D%3D?line=24'>25</a>\u001b[0m     save_path\u001b[39m=\u001b[39;49m path\n\u001b[1;32m     <a href='vscode-notebook-cell:/Users/kluvta/Desktop/code/MFEA-v3.0/5_SMP_MFEA.ipynb#W6sZmlsZQ%3D%3D?line=25'>26</a>\u001b[0m )\n",
      "File \u001b[0;32m~/Desktop/code/MFEA-v3.0/MFEA_lib/model/utils/MultiBenchmark.py:28\u001b[0m, in \u001b[0;36mMultiBenchmark.run\u001b[0;34m(self, nb_run, save_path)\u001b[0m\n\u001b[1;32m     26\u001b[0m model\u001b[39m.\u001b[39mcompile(\u001b[39m*\u001b[39m\u001b[39m*\u001b[39m\u001b[39mself\u001b[39m\u001b[39m.\u001b[39mcompile_kwargs) \n\u001b[1;32m     27\u001b[0m model\u001b[39m.\u001b[39mfit(\u001b[39m*\u001b[39m\u001b[39m*\u001b[39m\u001b[39mself\u001b[39m\u001b[39m.\u001b[39mfit_kwargs) \n\u001b[0;32m---> 28\u001b[0m model\u001b[39m.\u001b[39;49mrun(nb_run \u001b[39m=\u001b[39;49m nb_run, save_path\u001b[39m=\u001b[39;49m save_path \u001b[39m+\u001b[39;49m \u001b[39mstr\u001b[39;49m(\u001b[39mself\u001b[39;49m\u001b[39m.\u001b[39;49mls_name_benchmark[idx]) \u001b[39m+\u001b[39;49m \u001b[39m\"\u001b[39;49m\u001b[39m.mso\u001b[39;49m\u001b[39m\"\u001b[39;49m) \n\u001b[1;32m     29\u001b[0m \u001b[39mself\u001b[39m\u001b[39m.\u001b[39mls_model\u001b[39m.\u001b[39mappend(model)\n",
      "File \u001b[0;32m~/Desktop/code/MFEA-v3.0/MFEA_lib/model/utils/MultiTimeModel.py:206\u001b[0m, in \u001b[0;36mMultiTimeModel.run\u001b[0;34m(self, nb_run, save_path, seed_arr, random_seed, replace_folder)\u001b[0m\n\u001b[1;32m    203\u001b[0m \u001b[39mself\u001b[39m\u001b[39m.\u001b[39mstatus \u001b[39m=\u001b[39m \u001b[39m'\u001b[39m\u001b[39mRunning\u001b[39m\u001b[39m'\u001b[39m\n\u001b[1;32m    204\u001b[0m \u001b[39mself\u001b[39m\u001b[39m.\u001b[39mset_attribute()\n\u001b[0;32m--> 206\u001b[0m save_result \u001b[39m=\u001b[39m saveModel(\u001b[39mself\u001b[39;49m, save_path)\n\u001b[1;32m    207\u001b[0m \u001b[39mprint\u001b[39m(\u001b[39m'\u001b[39m\u001b[39m\\n\u001b[39;00m\u001b[39m\\n\u001b[39;00m\u001b[39mKeyboardInterrupt: \u001b[39m\u001b[39m'\u001b[39m \u001b[39m+\u001b[39m\n\u001b[1;32m    208\u001b[0m       save_result \u001b[39m+\u001b[39m \u001b[39m'\u001b[39m\u001b[39m model, model is not Done\u001b[39m\u001b[39m'\u001b[39m)\n\u001b[1;32m    209\u001b[0m traceback\u001b[39m.\u001b[39mprint_exc()\n",
      "File \u001b[0;32m~/Desktop/code/MFEA-v3.0/MFEA_lib/model/utils/MultiTimeModel.py:248\u001b[0m, in \u001b[0;36msaveModel\u001b[0;34m(model, PATH, remove_tasks)\u001b[0m\n\u001b[1;32m    246\u001b[0m \u001b[39mfor\u001b[39;00m submodel \u001b[39min\u001b[39;00m model\u001b[39m.\u001b[39mls_model:\n\u001b[1;32m    247\u001b[0m     submodel\u001b[39m.\u001b[39mtasks \u001b[39m=\u001b[39m \u001b[39mNone\u001b[39;00m\n\u001b[0;32m--> 248\u001b[0m     submodel\u001b[39m.\u001b[39;49mlast_pop\u001b[39m.\u001b[39mls_tasks \u001b[39m=\u001b[39m \u001b[39mNone\u001b[39;00m\n\u001b[1;32m    249\u001b[0m     \u001b[39mfor\u001b[39;00m subpop \u001b[39min\u001b[39;00m submodel\u001b[39m.\u001b[39mlast_pop:\n\u001b[1;32m    250\u001b[0m         subpop\u001b[39m.\u001b[39mtask \u001b[39m=\u001b[39m \u001b[39mNone\u001b[39;00m\n",
      "\u001b[0;31mAttributeError\u001b[0m: 'model' object has no attribute 'last_pop'"
     ]
    }
   ],
   "source": [
    "path = './RESULTS/result/CEC17_10tasks/SMP_KL/'\n",
    "\n",
    "smpModel = MultiBenchmark(\n",
    "    ls_benchmark= ls_benchmark,\n",
    "    name_benchmark= name_benchmark,\n",
    "    ls_IndClass= ls_IndClass,\n",
    "    model= SMP_MFEA\n",
    ")\n",
    "smpModel.compile( \n",
    "    crossover = KL_SBXCrossover(nc= 2, u= 0.001, conf_thres= 1),\n",
    "    # crossover = SBX_Crossover(nc = 2),\n",
    "    mutation = PolynomialMutation(nm = 5, pm= 1),\n",
    "    selection= ElitismSelection(random_percent= 0.1),\n",
    "    search= L_SHADE(len_mem= 15),\n",
    "    attr_tasks = ['crossover', 'mutation', 'search'],\n",
    ")\n",
    "smpModel.fit(\n",
    "    nb_generations= 1000, nb_inds_each_task= 100, nb_inds_min= 20,\n",
    "    lr = 0.1, p_const_intra= 0., prob_search = 0., lc_nums = 200,\n",
    "    nb_epochs_stop= 1000, swap_po= False,\n",
    "    evaluate_initial_skillFactor= True\n",
    ")\n",
    "a = smpModel.run(\n",
    "    nb_run= 30,     \n",
    "    save_path= path\n",
    ")"
   ]
  },
  {
   "cell_type": "code",
   "execution_count": null,
   "metadata": {},
   "outputs": [],
   "source": [
    "np.mean([model.history_cost[-1] for model in smpModel.ls_model[0].ls_model], axis = 0)"
   ]
  },
  {
   "cell_type": "code",
   "execution_count": 4,
   "metadata": {},
   "outputs": [
    {
     "data": {
      "text/plain": [
       "array([5.97044641e-22, 2.42607335e-26, 0.00000000e+00, 0.00000000e+00,\n",
       "       9.43140297e-18, 4.35503485e-14, 0.00000000e+00, 6.36378325e-04,\n",
       "       0.00000000e+00, 0.00000000e+00])"
      ]
     },
     "execution_count": 4,
     "metadata": {},
     "output_type": "execute_result"
    }
   ],
   "source": [
    "np.mean([model.history_cost[-1] for model in smpModel.ls_model[0].ls_model], axis = 0)"
   ]
  },
  {
   "cell_type": "markdown",
   "metadata": {},
   "source": [
    "##### Complex"
   ]
  },
  {
   "cell_type": "code",
   "execution_count": null,
   "metadata": {},
   "outputs": [],
   "source": [
    "SMP_v2 = loadModel('./RESULTS/result/WCCI22_complex/SMP_v2/8.mso', ls_tasks= t)\n",
    "SMP_v2.render_smp()"
   ]
  },
  {
   "cell_type": "code",
   "execution_count": null,
   "metadata": {},
   "outputs": [],
   "source": [
    "# complex\n",
    "ls_benchmark = []\n",
    "ls_IndClass = []\n",
    "name_benchmark = []\n",
    "path = './RESULTS/result/WCCI22_complex/SMP_v2/'\n",
    "\n",
    "for i in range(1, 11, 1):\n",
    "# for i in [3, 6, 10]:\n",
    "    t, ic = WCCI22_benchmark.get_complex_benchmark(i)\n",
    "    ls_benchmark.append(t)\n",
    "    ls_IndClass.append(ic)\n",
    "    name_benchmark.append(i)\n",
    "    \n",
    "compare = CompareResultBenchmark(\n",
    "    path_folder=\"./RESULTS/result/WCCI22_complex\", \n",
    "    ls_benchmark= ls_benchmark\n",
    ")\n",
    "compare.load_folder()"
   ]
  },
  {
   "cell_type": "code",
   "execution_count": null,
   "metadata": {},
   "outputs": [],
   "source": [
    "compare.summarizing_compare_result(idx_main_algo= 5, min_value= 1e-6)"
   ]
  },
  {
   "cell_type": "code",
   "execution_count": null,
   "metadata": {},
   "outputs": [],
   "source": [
    "compare.show_compare_detail(idx_main_algo=0)"
   ]
  },
  {
   "cell_type": "markdown",
   "metadata": {},
   "source": [
    "##### cec17"
   ]
  },
  {
   "cell_type": "code",
   "execution_count": null,
   "metadata": {},
   "outputs": [],
   "source": [
    "t, ic = CEC17_benchmark.get_10tasks_benchmark()"
   ]
  },
  {
   "cell_type": "code",
   "execution_count": null,
   "metadata": {},
   "outputs": [],
   "source": [
    "# SMP_KL = loadModel('./RESULTS/result/CEC17/SMP_v2/cec17.mso', ls_tasks= t)"
   ]
  },
  {
   "cell_type": "code",
   "execution_count": null,
   "metadata": {},
   "outputs": [],
   "source": [
    "\n",
    "# MFEA_model = loadModel('./RESULTS/__static__/CEC17_10tasks/MFEA_cec17.mso', ls_tasks= t)\n",
    "# EBS_GA_model = loadModel('./RESULTS/__static__/CEC17_10tasks/EBS_GA_cec17.mso', ls_tasks= t)\n",
    "# MaTDE_model = loadModel('./RESULTS/__static__/CEC17_10tasks/MaTDE_cec17.mso', ls_tasks= t)\n",
    "# MaTGA_model = loadModel('./RESULTS/__static__/CEC17_10tasks/MaTGA_cec17.mso', ls_tasks= t)\n",
    "# MTEA_AD_model = loadModel('./RESULTS/__static__/CEC17_10tasks/MTEA_AD_cec17.mso', ls_tasks= t)\n",
    "# SA_model = loadModel('./RESULTS/__static__/CEC17_10tasks/SA_cec17.mso', ls_tasks= t)\n",
    "# LSA_model = loadModel('./RESULTS/__static__/CEC17_10tasks/LSA_cec17.mso', ls_tasks= t)\n",
    "# SMP_SBX = loadModel('./RESULTS/__static__/CEC17_10tasks/SMP_SBX.mso', ls_tasks= t)\n",
    "SMP_SBX = loadModel('./RESULTS/result/CEC17_10tasks/SMP/cec17.mso', ls_tasks= t)\n",
    "SMP_KL = loadModel('./RESULTS/result/CEC17_10tasks/SMP_KL/cec17.mso', ls_tasks= t)\n",
    "\n",
    "\n",
    "compare = CompareModel(\n",
    "    models = [\n",
    "        # MFEA_model, EBS_GA_model, MaTDE_model, MaTGA_model, MTEA_AD_model, SA_model, LSA_model, \n",
    "    SMP_SBX, SMP_KL],\n",
    "    label= \\\n",
    "        # [...] * 7 + \\\n",
    "            ['SMP_SBX', 'SMP + KL'],\n",
    ")\n",
    "compare.render(    \n",
    "    shape = (2, 5),\n",
    "    min_cost= 0,\n",
    "    step= 100,\n",
    "    yscale= 'log'\n",
    ")\n",
    "\n",
    "# SMP_newSBX.render_smp(shape= (3, 5), step = 1)\n",
    "# SMP_KL.render_smp(shape= (2, 5), step = 1)\n",
    "print()"
   ]
  },
  {
   "cell_type": "markdown",
   "metadata": {},
   "source": [
    "30 times"
   ]
  },
  {
   "cell_type": "code",
   "execution_count": null,
   "metadata": {},
   "outputs": [],
   "source": [
    "# smpModel = MultiTimeModel(model= SMP_MFEA)\n",
    "# smpModel.compile(\n",
    "#     tasks= cec17_10tasks,\n",
    "#     crossover= newSBX(nc = 2, gamma= 0.4, alpha = 6),\n",
    "#     # mutation= NoMutation(),\n",
    "#     mutation = GMMScale(alpha = 3, lenMem= 20, default_scale= 0.5),\n",
    "#     selection= ElitismSelection(random_percent= 0.),\n",
    "# )\n",
    "# smpModel.fit(\n",
    "#     nb_generations= 10, nb_inds_each_task= 100, nb_inds_min= 20,\n",
    "#     lr = 1.5, p_const_intra= 0.3, p_mutate= 0.,\n",
    "#     nb_epochs_stop= 50, \n",
    "#     evaluate_initial_skillFactor= True\n",
    "# )\n",
    "# smpModel.run(\n",
    "#     nb_run= 30,\n",
    "#     save_path= './RESULTS/smpMFEA_cec17.mso'\n",
    "# )"
   ]
  },
  {
   "cell_type": "code",
   "execution_count": null,
   "metadata": {},
   "outputs": [],
   "source": [
    "# smpModel.render_history(shape = (2, 5), yscale= 'log')\n",
    "# print()"
   ]
  },
  {
   "cell_type": "code",
   "execution_count": null,
   "metadata": {},
   "outputs": [],
   "source": [
    "# smpModel.render_smp(step = 1, get_host= True)\n",
    "# print()"
   ]
  },
  {
   "cell_type": "markdown",
   "metadata": {},
   "source": []
  },
  {
   "cell_type": "markdown",
   "metadata": {},
   "source": [
    "##### GECCO20"
   ]
  },
  {
   "cell_type": "code",
   "execution_count": null,
   "metadata": {},
   "outputs": [],
   "source": [
    "SMP_v2 = loadModel('./RESULTS/result/GECCO20/SMP_v2/3.mso', ls_tasks= t)\n",
    "SMP_v2.render_smp()"
   ]
  },
  {
   "cell_type": "code",
   "execution_count": null,
   "metadata": {},
   "outputs": [],
   "source": [
    "# gecco20\n",
    "ls_benchmark = []\n",
    "ls_IndClass = []\n",
    "name_benchmark = []\n",
    "path = './RESULTS/result/GECCO20/SMP_v2/'\n",
    "\n",
    "for i in range(1, 11, 1):\n",
    "    t, ic = WCCI22_benchmark.get_50tasks_benchmark(i)\n",
    "    ls_benchmark.append(t)\n",
    "    ls_IndClass.append(ic)\n",
    "    name_benchmark.append(i)"
   ]
  },
  {
   "cell_type": "code",
   "execution_count": null,
   "metadata": {},
   "outputs": [],
   "source": [
    "compare = CompareResultBenchmark(\n",
    "    path_folder=\"./RESULTS/result/GECCO20/\", \n",
    "    ls_benchmark= ls_benchmark\n",
    ")\n",
    "compare.load_folder()"
   ]
  },
  {
   "cell_type": "code",
   "execution_count": null,
   "metadata": {},
   "outputs": [],
   "source": [
    "compare.summarizing_compare_result(idx_main_algo= 6, min_value= 1e-6)"
   ]
  },
  {
   "cell_type": "code",
   "execution_count": null,
   "metadata": {},
   "outputs": [],
   "source": [
    "compare.show_compare_detail(idx_main_algo=0, min_value= 1e-6)"
   ]
  }
 ],
 "metadata": {
  "kernelspec": {
   "display_name": "env",
   "language": "python",
   "name": "python3"
  },
  "language_info": {
   "codemirror_mode": {
    "name": "ipython",
    "version": 3
   },
   "file_extension": ".py",
   "mimetype": "text/x-python",
   "name": "python",
   "nbconvert_exporter": "python",
   "pygments_lexer": "ipython3",
   "version": "3.10.8 (tags/v3.10.8:aaaf517, Oct 11 2022, 16:50:30) [MSC v.1933 64 bit (AMD64)]"
  },
  "orig_nbformat": 4,
  "vscode": {
   "interpreter": {
    "hash": "5d65defc72f4befd83d661e3731a69e58a9e5bbddaeb1718f6eb5d942cd807b9"
   }
  }
 },
 "nbformat": 4,
 "nbformat_minor": 2
}
