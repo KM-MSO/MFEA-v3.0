{
 "cells": [
  {
   "cell_type": "code",
   "execution_count": 1,
   "metadata": {},
   "outputs": [],
   "source": [
    "import numpy as np\n",
    "from MFEA_lib.tasks.Benchmark import WCCI22_benchmark"
   ]
  },
  {
   "cell_type": "code",
   "execution_count": 2,
   "metadata": {},
   "outputs": [],
   "source": [
    "# Initial data test\n",
    "np.random.seed(1)\n",
    "input_small_testcases = np.random.uniform(-100, 100, size= (1000, 50))\n",
    "\n",
    "path = './MFEA_lib/tasks/__references__/WCCI2022/SO-Complex-Benchmarks/test_benchmark/'\n",
    "np.savetxt(path + 'input_testcases.txt', input_small_testcases)\n"
   ]
  },
  {
   "cell_type": "code",
   "execution_count": 3,
   "metadata": {},
   "outputs": [
    {
     "data": {
      "text/plain": [
       "(1000, 50)"
      ]
     },
     "execution_count": 3,
     "metadata": {},
     "output_type": "execute_result"
    }
   ],
   "source": [
    "# Load data test\n",
    "input_data = np.loadtxt(path + 'input_testcases.txt')\n",
    "input_data.shape"
   ]
  },
  {
   "cell_type": "code",
   "execution_count": 4,
   "metadata": {},
   "outputs": [
    {
     "data": {
      "text/plain": [
       "2416.896990990605"
      ]
     },
     "execution_count": 4,
     "metadata": {},
     "output_type": "execute_result"
    }
   ],
   "source": [
    "WCCI22_benchmark.get_complex_benchmark(2)[0].fnceval(input_data[0])"
   ]
  },
  {
   "cell_type": "code",
   "execution_count": 5,
   "metadata": {},
   "outputs": [],
   "source": [
    "# Generate ipynb output\n",
    "ipynb_output = np.zeros((10, 1000, 2))\n",
    "for i in range(10):\n",
    "    tasks = WCCI22_benchmark.get_complex_benchmark(i+1)\n",
    "    ipynb_output[i, : , 0] = np.apply_along_axis(tasks[0].fnceval, 1, input_data)\n",
    "    ipynb_output[i, : , 1] = np.apply_along_axis(tasks[1].fnceval, 1, input_data)\n",
    "ipynb_output = ipynb_output.reshape(ipynb_output.shape[0] * ipynb_output.shape[1], -1)\n",
    "\n",
    "# Save the output\n",
    "np.savetxt(path + \"ipynb_output.txt\", ipynb_output)"
   ]
  },
  {
   "cell_type": "code",
   "execution_count": 6,
   "metadata": {},
   "outputs": [],
   "source": [
    "# Compute error between output from ipynb and matlab\n",
    "matlab_output = np.loadtxt(path + 'matlab_output.txt')\n",
    "error_output = np.abs(ipynb_output - matlab_output)\n",
    "\n",
    "# Save the error output\n",
    "np.savetxt(path + 'error_output.txt', error_output)"
   ]
  },
  {
   "cell_type": "code",
   "execution_count": 7,
   "metadata": {},
   "outputs": [
    {
     "name": "stdout",
     "output_type": "stream",
     "text": [
      "Number of the output exceed the max error for each benchmark set:\n",
      "Bechmark 1: 0\n",
      "Bechmark 2: 0\n",
      "Bechmark 3: 0\n",
      "Bechmark 4: 0\n",
      "Bechmark 5: 0\n",
      "Bechmark 6: 0\n",
      "Bechmark 7: 0\n",
      "Bechmark 8: 0\n",
      "Bechmark 9: 0\n",
      "Bechmark 10: 0\n",
      "\n",
      "Sum:      0/20000\n"
     ]
    }
   ],
   "source": [
    "max_error = 1e-4  # max error between 2 output from ipynb and matlab \n",
    "sum_fail_output = 0\n",
    "print(\"Number of the output exceed the max error for each benchmark set:\")\n",
    "for i in range(10):\n",
    "    id = np.argwhere(error_output[i*1000:(i+1)*1000, :] > max_error)\n",
    "    print(f\"Bechmark {i+1}: {len(id)}\")\n",
    "    sum_fail_output += len(id)\n",
    "print(f\"\\nSum:      {sum_fail_output}/{20000}\")"
   ]
  },
  {
   "cell_type": "code",
   "execution_count": 8,
   "metadata": {},
   "outputs": [
    {
     "name": "stdout",
     "output_type": "stream",
     "text": [
      "Error complex benchmark: 10 set - 2 tasks\n",
      "Benchmark: 1: [1.02195495e-11 1.05550449e-11]\n",
      "Benchmark: 2: [2.85838852e-09 2.85840374e-09]\n",
      "Benchmark: 3: [2.17613521e-06 2.21894814e-06]\n",
      "Benchmark: 4: [4.46599605e-11 2.97748213e-11]\n",
      "Benchmark: 5: [1.95329326e-07 2.22426998e-07]\n",
      "Benchmark: 6: [2.13495978e-06 2.75041804e-06]\n",
      "Benchmark: 7: [6.13752938e-08 3.90300002e-08]\n",
      "Benchmark: 8: [1.82852956e-14 1.06758869e-14]\n",
      "Benchmark: 9: [7.26142024e-12 9.08586116e-15]\n",
      "Benchmark: 10: [2.62258807e-06 2.24055350e-06]\n"
     ]
    }
   ],
   "source": [
    "print(\"Error complex benchmark: 10 set - 2 tasks\")\n",
    "for i in range(10):\n",
    "    print(f\"Benchmark: {i+1}: {np.mean(error_output[i*1000: (i+1)*1000+1], axis=0)}\")"
   ]
  },
  {
   "cell_type": "code",
   "execution_count": 9,
   "metadata": {},
   "outputs": [],
   "source": [
    "# from MFEA_lib.model import SMP_MFEA\n",
    "# from MFEA_lib.model.utils import *\n",
    "# from MFEA_lib.operators.Crossover import SBX_Crossover\n",
    "# from MFEA_lib.operators.Mutation import PolynomialMutation\n",
    "# from MFEA_lib.operators.Selection import ElitismSelection\n",
    "# from MFEA_lib.operators.Search import *\n"
   ]
  },
  {
   "cell_type": "code",
   "execution_count": 10,
   "metadata": {},
   "outputs": [],
   "source": [
    "# baseModel = SMP_MFEA.model()\n",
    "# baseModel.compile(\n",
    "#     tasks= tasks,\n",
    "#     crossover= SBX_Crossover(nc = 2),\n",
    "#     mutation= PolynomialMutation(nm = 5),\n",
    "#     selection= ElitismSelection(),\n",
    "#     search = SHADE(len_mem= 30, p_ontop= 0.1)\n",
    "# )\n",
    "# solve = baseModel.fit(\n",
    "#     nb_generations= 1000, nb_inds_each_task= 100, rmp = 0.3,\n",
    "#     bound= [0, 1], evaluate_initial_skillFactor= True\n",
    "# )"
   ]
  }
 ],
 "metadata": {
  "interpreter": {
   "hash": "dcacb0086e9a4f4eabd41c33bf4faac5ea0a3337ed3f5eff0680afa930572c04"
  },
  "kernelspec": {
   "display_name": "Python 3.9.4 64-bit",
   "language": "python",
   "name": "python3"
  },
  "language_info": {
   "codemirror_mode": {
    "name": "ipython",
    "version": 3
   },
   "file_extension": ".py",
   "mimetype": "text/x-python",
   "name": "python",
   "nbconvert_exporter": "python",
   "pygments_lexer": "ipython3",
   "version": "3.9.4"
  },
  "orig_nbformat": 4
 },
 "nbformat": 4,
 "nbformat_minor": 2
}
