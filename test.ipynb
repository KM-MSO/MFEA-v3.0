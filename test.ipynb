{
 "cells": [
  {
   "cell_type": "code",
   "execution_count": 1,
   "metadata": {},
   "outputs": [],
   "source": [
    "import numpy as np "
   ]
  },
  {
   "cell_type": "code",
   "execution_count": 9,
   "metadata": {},
   "outputs": [
    {
     "data": {
      "image/png": "[encoded data removed]",
      "text/plain": [
       "<Figure size 640x480 with 1 Axes>"
      ]
     },
     "metadata": {},
     "output_type": "display_data"
    }
   ],
   "source": [
    "import matplotlib.pyplot as plt \n",
    "import numpy as np \n",
    "\n",
    "\n",
    "valid = [0.4803,0.5541,0.5593,0.5647,0.5680,0.5719,0.5698]\n",
    "LB = [0.4841, 0.5595,0.5657,0.5696,0.5741,0.5777,0.5787]\n",
    "x = np.arange(len(valid)) + 1 \n",
    "\n",
    "plt.plot(x, valid, label= \"valid\")\n",
    "plt.plot(x, LB, label= \"LB\")\n",
    "plt.legend(loc= 'upper left')\n",
    "plt.xticks([])\n",
    "plt.show()"
   ]
  },
  {
   "cell_type": "code",
   "execution_count": 3,
   "metadata": {},
   "outputs": [
    {
     "name": "stdout",
     "output_type": "stream",
     "text": [
      "[3.74165739 8.77496439]\n"
     ]
    }
   ],
   "source": [
    "array = np.array([[1,2,3],[4,5,6]])\n",
    "\n",
    "l2_norm= np.linalg.norm(array, axis=1) \n",
    "print(l2_norm)\n",
    "l2_norm = l2_norm.reshape(2,1)\n",
    "array2= array / l2_norm \n"
   ]
  },
  {
   "cell_type": "code",
   "execution_count": 5,
   "metadata": {},
   "outputs": [
    {
     "name": "stdout",
     "output_type": "stream",
     "text": [
      "0.9999999999999999\n"
     ]
    }
   ],
   "source": [
    "print(np.linalg.norm(array2[1]))"
   ]
  },
  {
   "cell_type": "code",
   "execution_count": 1,
   "metadata": {},
   "outputs": [
    {
     "name": "stdout",
     "output_type": "stream",
     "text": [
      "[0.1 0.4 0.2 0.2] / [1 3 2 4] = [0.1        0.13333333 0.1        0.05      ]\n"
     ]
    }
   ],
   "source": [
    "delta = [\n",
    "    [0.1, 0.4, 0.2, 0.2],\n",
    "    [0.05,0.2, 0.5, 0.1],\n",
    "    [0.2, 0.4, 0.2, 0.1],\n",
    "]\n",
    "\n",
    "Count = [\n",
    "    [1,   3,   2,   4],\n",
    "    [1,   4,   2,   3],\n",
    "    [2,   3,   1,   4],\n",
    "]\n",
    "\n",
    "import numpy as np \n",
    "\n",
    "delta, Count = np.array(delta), np.array(Count);\n",
    "i = 0\n",
    "\n",
    "print(f\"{delta[i]} / {Count[i]} = {delta[i] / Count[i]}\")\n",
    "\n"
   ]
  },
  {
   "cell_type": "code",
   "execution_count": 9,
   "metadata": {},
   "outputs": [],
   "source": [
    "t = delta[i] / Count[i]\n",
    "a = (1 -0.1) / (np.sum(t)) * t"
   ]
  },
  {
   "cell_type": "code",
   "execution_count": 18,
   "metadata": {},
   "outputs": [
    {
     "name": "stdout",
     "output_type": "stream",
     "text": [
      "[0.26076087 0.34684783 0.26076087 0.13163043]\n",
      "[0.26076087 0.34684783 0.26076087 0.13163043]\n"
     ]
    }
   ],
   "source": [
    "miu = 0.1 \n",
    "old_smp = [0.26086957,0.34782609,0.26086957,0.13043478]\n",
    "old_smp = np.array(old_smp)\n",
    "\n",
    "\n",
    "new_smp = (1 - miu) / sum(t) * t\n",
    "smp = (old_smp - miu / len(old_smp)) * 0.9 + 0.1 * new_smp + miu / len(old_smp) \n",
    "print(smp) \n",
    "\n",
    "new_smp = (1 - miu) / sum(t) * t + miu / len(old_smp) \n",
    "smp = old_smp * 0.9 + 0.1 * new_smp\n",
    "print(smp)"
   ]
  },
  {
   "cell_type": "code",
   "execution_count": 16,
   "metadata": {},
   "outputs": [
    {
     "name": "stdout",
     "output_type": "stream",
     "text": [
      "[0.23478261 0.31304348 0.23478261 0.1173913 ]\n"
     ]
    }
   ],
   "source": [
    "# print(a)\n",
    "miu = 0 \n",
    "new_smp = (1 - miu) / (np.sum(t)) * t\n",
    "# [0.26086957 0.34782609 0.26086957 0.13043478]\n",
    "\n",
    "miu = 0.1 \n",
    "new_smp = (1 - miu) / (np.sum(t)) * t \n",
    "print(new_smp)\n",
    "# [0.23478261 0.31304348 0.23478261 0.1173913 ]\n"
   ]
  },
  {
   "cell_type": "code",
   "execution_count": 11,
   "metadata": {},
   "outputs": [
    {
     "name": "stdout",
     "output_type": "stream",
     "text": [
      "0.8999999999999999\n"
     ]
    }
   ],
   "source": [
    "print(np.sum(a))"
   ]
  },
  {
   "cell_type": "code",
   "execution_count": null,
   "metadata": {},
   "outputs": [],
   "source": []
  }
 ],
 "metadata": {
  "kernelspec": {
   "display_name": "env",
   "language": "python",
   "name": "python3"
  },
  "language_info": {
   "codemirror_mode": {
    "name": "ipython",
    "version": 3
   },
   "file_extension": ".py",
   "mimetype": "text/x-python",
   "name": "python",
   "nbconvert_exporter": "python",
   "pygments_lexer": "ipython3",
   "version": "3.10.8"
  },
  "orig_nbformat": 4,
  "vscode": {
   "interpreter": {
    "hash": "5d65defc72f4befd83d661e3731a69e58a9e5bbddaeb1718f6eb5d942cd807b9"
   }
  }
 },
 "nbformat": 4,
 "nbformat_minor": 2
}
