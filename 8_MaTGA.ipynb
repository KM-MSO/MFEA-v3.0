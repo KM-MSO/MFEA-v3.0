{
 "cells": [
  {
   "cell_type": "code",
   "execution_count": 1,
   "metadata": {},
   "outputs": [],
   "source": [
    "# from MFEA_lib.model import MaTGA\n",
    "from MFEA_lib.model.utils import *\n",
    "from MFEA_lib.operators.Crossover import SBX_Crossover, KL_SBXCrossover\n",
    "from MFEA_lib.operators.Mutation import PolynomialMutation, GaussMutation\n",
    "from MFEA_lib.operators.Selection import ElitismSelection\n",
    "from MFEA_lib.operators.Search import L_SHADE\n",
    "from MFEA_lib.tasks.Benchmark.Competitions import CEC17_benchmark, GECCO20_benchmark_50tasks"
   ]
  },
  {
   "attachments": {},
   "cell_type": "markdown",
   "metadata": {},
   "source": [
    "#### Benchmark"
   ]
  },
  {
   "attachments": {},
   "cell_type": "markdown",
   "metadata": {},
   "source": [
    "##### CEC17"
   ]
  },
  {
   "cell_type": "code",
   "execution_count": 2,
   "metadata": {},
   "outputs": [],
   "source": [
    "cec17_10tasks, IndClass = CEC17_benchmark.get_10tasks_benchmark()"
   ]
  },
  {
   "cell_type": "code",
   "execution_count": null,
   "metadata": {},
   "outputs": [],
   "source": [
    "from MFEA_lib.model import MFEA_base\n",
    "\n",
    "baseModel = MFEA_base.model()\n",
    "baseModel.compile(\n",
    "    IndClass= IndClass,\n",
    "    tasks= cec17_10tasks,\n",
    "    # crossover = KL_SBXCrossover(nc= 2, k= 100, conf_thres= 1),\n",
    "    crossover= SBX_Crossover(nc = 2),\n",
    "    mutation= PolynomialMutation(nm = 5),\n",
    "    selection= ElitismSelection()\n",
    ")\n",
    "solve = baseModel.fit(\n",
    "    nb_generations = 1000, rmp = 0.3, nb_inds_each_task= 100, \n",
    "    bound_pop= [0, 1], evaluate_initial_skillFactor= True\n",
    ")"
   ]
  },
  {
   "cell_type": "code",
   "execution_count": 4,
   "metadata": {},
   "outputs": [
    {
     "name": "stdout",
     "output_type": "stream",
     "text": [
      "Seed: 0 -- Time: 00m 27.16s    8 % [=>                  ]  Cost: 2.67E+03  2.02E+03  1.44E+03  3.83E+00  3.57E+07  2.07E+01  2.18E+01  1.06E+04  1.62E+00  9.70E+02  ,  "
     ]
    }
   ],
   "source": [
    "from MFEA_lib.model import MaTGA\n",
    "\n",
    "baseModel = MaTGA.model(seed = 0)\n",
    "baseModel.compile(\n",
    "    IndClass = IndClass,\n",
    "    tasks = cec17_10tasks,\n",
    "    crossover = SBX_Crossover(nc = 2),\n",
    "    mutation = PolynomialMutation(nm = 5),\n",
    "    selection = ElitismSelection()\n",
    ")\n",
    "solve = baseModel.fit(\n",
    "    nb_generations = 1000, nb_inds_each_task = 100, rmp = 0.1, \n",
    "    bound = [0, 1], evaluate_initial_skillFactor = True\n",
    ")"
   ]
  },
  {
   "cell_type": "code",
   "execution_count": null,
   "metadata": {},
   "outputs": [],
   "source": []
  },
  {
   "cell_type": "code",
   "execution_count": null,
   "metadata": {},
   "outputs": [],
   "source": []
  }
 ],
 "metadata": {
  "kernelspec": {
   "display_name": "MFEA",
   "language": "python",
   "name": "python3"
  },
  "language_info": {
   "codemirror_mode": {
    "name": "ipython",
    "version": 3
   },
   "file_extension": ".py",
   "mimetype": "text/x-python",
   "name": "python",
   "nbconvert_exporter": "python",
   "pygments_lexer": "ipython3",
   "version": "3.8.16"
  },
  "orig_nbformat": 4,
  "vscode": {
   "interpreter": {
    "hash": "4a3c9e26fdc3510968d8c8d0068758f6f26fdb383cb924cc52c2f44397c2f98e"
   }
  }
 },
 "nbformat": 4,
 "nbformat_minor": 2
}
