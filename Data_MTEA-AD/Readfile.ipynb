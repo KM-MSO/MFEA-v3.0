{
 "cells": [
  {
   "cell_type": "code",
   "execution_count": 2,
   "metadata": {},
   "outputs": [],
   "source": [
    "import scipy.io\n",
    "mat = scipy.io.loadmat('D:/MTEA-AD-main/MTEA-AD-main/Data_MTEA-AD/MTEA_AD_10_1_datasum.mat')"
   ]
  },
  {
   "cell_type": "markdown",
   "metadata": {},
   "source": [
    "# BestFitness are final best results in each run. \n",
    "shape (30xT) : 30 runs, T is number of tasks. \n",
    "Each row record fianl results of all task"
   ]
  },
  {
   "cell_type": "code",
   "execution_count": 4,
   "metadata": {},
   "outputs": [
    {
     "data": {
      "text/plain": [
       "(30, 10)"
      ]
     },
     "execution_count": 4,
     "metadata": {},
     "output_type": "execute_result"
    }
   ],
   "source": [
    "BestFitness = mat.get('data')['BestFitness'][0][0] \n",
    "BestFitness.shape"
   ]
  },
  {
   "cell_type": "markdown",
   "metadata": {},
   "source": [
    "# EvBestFitness_evn are average results over all run. \n",
    "shape (11xT) : The number of recorded generation: 11 ( 10 + initial generation), T is number of tasks. \n",
    "The results are averaged in all runs."
   ]
  },
  {
   "cell_type": "code",
   "execution_count": 5,
   "metadata": {},
   "outputs": [
    {
     "data": {
      "text/plain": [
       "(11, 10)"
      ]
     },
     "execution_count": 5,
     "metadata": {},
     "output_type": "execute_result"
    }
   ],
   "source": [
    "EvBestFitness_evn = mat.get('data')['EvBestFitness_evn'][0][0]\n",
    "EvBestFitness_evn.shape"
   ]
  },
  {
   "cell_type": "markdown",
   "metadata": {},
   "source": [
    "# Time is running time each run"
   ]
  },
  {
   "cell_type": "code",
   "execution_count": 7,
   "metadata": {},
   "outputs": [
    {
     "data": {
      "text/plain": [
       "(30, 1)"
      ]
     },
     "execution_count": 7,
     "metadata": {},
     "output_type": "execute_result"
    }
   ],
   "source": [
    "time = mat.get('data')['wall_clock_time'][0][0]\n",
    "time.shape"
   ]
  },
  {
   "cell_type": "code",
   "execution_count": 8,
   "metadata": {},
   "outputs": [
    {
     "data": {
      "text/plain": [
       "array([[1.16806898e+05, 3.26616104e+05, 3.15267767e+05, 1.99316667e+01,\n",
       "        3.55892492e+09, 2.14412555e+01, 4.26672514e+01, 1.75662829e+04,\n",
       "        8.15452789e+01, 8.15054288e+04],\n",
       "       [2.41798963e+03, 1.67202323e+03, 3.06704557e+03, 7.38316123e+00,\n",
       "        3.05444221e+06, 1.06586799e+01, 2.62444232e+01, 4.85993356e+03,\n",
       "        1.67191987e+00, 1.15419334e+03],\n",
       "       [1.30443584e+02, 5.51582742e+01, 1.16158149e+02, 1.75439607e+00,\n",
       "        1.80070409e+04, 3.57280681e+00, 9.51740673e+00, 1.76968685e+02,\n",
       "        1.00763094e+00, 3.61548718e+02],\n",
       "       [8.69372450e+00, 1.66605537e+00, 2.17052405e+00, 1.68871062e-01,\n",
       "        9.01750900e+02, 6.84929742e-01, 2.60210131e+00, 1.14615894e+01,\n",
       "        2.10830053e-01, 2.04768351e+02],\n",
       "       [5.87968244e-01, 7.32029723e-02, 3.80091093e-02, 1.46108028e-02,\n",
       "        7.43905703e+01, 9.24879718e-02, 7.23019539e-01, 8.18192627e-01,\n",
       "        1.65013354e-02, 1.21067859e+02],\n",
       "       [4.43199584e-02, 4.32582766e-03, 8.39692559e-04, 1.38134912e-03,\n",
       "        4.97202089e+00, 1.90609175e-02, 2.19642611e-01, 6.91120744e-02,\n",
       "        1.85616886e-03, 7.08259170e+01],\n",
       "       [3.18095913e-03, 2.51706355e-04, 1.80273248e-05, 1.08148896e-04,\n",
       "        3.75421393e-01, 4.51747412e-03, 6.53738221e-02, 6.54918442e-03,\n",
       "        6.08318091e-04, 4.17480704e+01],\n",
       "       [2.51193495e-04, 1.44620870e-05, 5.81075553e-07, 2.02291741e-06,\n",
       "        2.62243452e-02, 1.03914171e-03, 2.02108684e-02, 1.16760770e-03,\n",
       "        5.03444443e-04, 2.82141942e+01],\n",
       "       [1.93328046e-05, 8.46588135e-07, 1.09167436e-08, 1.26550012e-08,\n",
       "        2.23932977e-03, 2.54828806e-04, 6.07227389e-03, 6.81019958e-04,\n",
       "        4.94016078e-04, 2.25274238e+01],\n",
       "       [1.48868078e-06, 5.05490296e-08, 2.33832355e-10, 8.33207281e-11,\n",
       "        1.67615951e-04, 6.04007400e-05, 1.81023296e-03, 6.40341916e-04,\n",
       "        4.93147488e-04, 1.95352950e+01],\n",
       "       [1.06093017e-07, 2.99055267e-09, 5.84163882e-12, 5.63105118e-13,\n",
       "        1.16871453e-05, 1.49350247e-05, 5.11031294e-04, 6.36708541e-04,\n",
       "        4.93075879e-04, 1.76267492e+01]])"
      ]
     },
     "execution_count": 8,
     "metadata": {},
     "output_type": "execute_result"
    }
   ],
   "source": [
    "EvBestFitness_evn"
   ]
  },
  {
   "cell_type": "code",
   "execution_count": 9,
   "metadata": {},
   "outputs": [
    {
     "ename": "NameError",
     "evalue": "name 'np' is not defined",
     "output_type": "error",
     "traceback": [
      "\u001b[1;31m---------------------------------------------------------------------------\u001b[0m",
      "\u001b[1;31mNameError\u001b[0m                                 Traceback (most recent call last)",
      "\u001b[1;32m<ipython-input-9-106f7ad93121>\u001b[0m in \u001b[0;36m<module>\u001b[1;34m\u001b[0m\n\u001b[1;32m----> 1\u001b[1;33m \u001b[0mnp\u001b[0m\u001b[1;33m.\u001b[0m\u001b[0mmean\u001b[0m\u001b[1;33m(\u001b[0m\u001b[0mBestFitness\u001b[0m\u001b[1;33m,\u001b[0m \u001b[1;36m0\u001b[0m\u001b[1;33m)\u001b[0m \u001b[1;31m# average final results over all runs\u001b[0m\u001b[1;33m\u001b[0m\u001b[1;33m\u001b[0m\u001b[0m\n\u001b[0m",
      "\u001b[1;31mNameError\u001b[0m: name 'np' is not defined"
     ]
    }
   ],
   "source": [
    "np.mean(BestFitness, 0) # average final results over all runs"
   ]
  },
  {
   "cell_type": "code",
   "execution_count": null,
   "metadata": {},
   "outputs": [],
   "source": []
  }
 ],
 "metadata": {
  "kernelspec": {
   "display_name": "Python 3",
   "language": "python",
   "name": "python3"
  },
  "language_info": {
   "codemirror_mode": {
    "name": "ipython",
    "version": 3
   },
   "file_extension": ".py",
   "mimetype": "text/x-python",
   "name": "python",
   "nbconvert_exporter": "python",
   "pygments_lexer": "ipython3",
   "version": "3.7.1"
  }
 },
 "nbformat": 4,
 "nbformat_minor": 2
}
