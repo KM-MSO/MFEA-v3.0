{
 "cells": [
  {
   "attachments": {},
   "cell_type": "markdown",
   "metadata": {},
   "source": [
    "### Import "
   ]
  },
  {
   "cell_type": "code",
   "execution_count": 1,
   "metadata": {},
   "outputs": [],
   "source": [
    "from MFEA_lib.model import SMP_MFEA, MFEA_base, SA_MFEA, AbstractModel\n",
    "from MFEA_lib.model.utils import *\n",
    "from MFEA_lib.operators.Crossover import *\n",
    "from MFEA_lib.operators.Mutation import *\n",
    "from MFEA_lib.operators.Selection import *\n",
    "from MFEA_lib.operators.Search import *\n",
    "from MFEA_lib.tasks.Benchmark.Competitions import CEC17_benchmark, GECCO20_benchmark_50tasks, WCCI22_benchmark\n",
    "\n",
    "import os \n",
    "import sys \n",
    "import numpy as np \n",
    "import pandas as pd\n",
    "import scipy \n"
   ]
  },
  {
   "cell_type": "code",
   "execution_count": 2,
   "metadata": {},
   "outputs": [],
   "source": [
    "primary_type= [int,np.int32,np.uint8, float, np.float32, np.float64, np.ndarray,tuple, bool, str, type(None), list] "
   ]
  },
  {
   "attachments": {},
   "cell_type": "markdown",
   "metadata": {},
   "source": [
    "## Convert"
   ]
  },
  {
   "attachments": {},
   "cell_type": "markdown",
   "metadata": {},
   "source": [
    "### Convert .mso file "
   ]
  },
  {
   "cell_type": "code",
   "execution_count": 8,
   "metadata": {},
   "outputs": [],
   "source": [
    "# model = loadModel(\"C:/Users/Admin/Downloads/RESULT/Covert_ONLY_HISTORY/CEC17/COMPARE_KL_SBX_S-MFEA/SBX/S-MFEA_CEC17_PYTHON.mso\", ls_tasks= CEC17_benchmark.get_10tasks_benchmark()[0]) \n",
    "model = loadModel(\"C:/Users/Admin/Downloads/RESULT/Covert_ONLY_HISTORY/GECCO/COMPARE_KL_GECCO_S-MFEA/S-MFEA_KL/1.mso\", ls_tasks= WCCI22_benchmark.get_50tasks_benchmark(2)[0]) \n",
    "\n"
   ]
  },
  {
   "cell_type": "code",
   "execution_count": 4,
   "metadata": {},
   "outputs": [],
   "source": [
    "def process_list(ls): \n",
    "    global primary_type \n",
    "    new_ls = []\n",
    "    for element in ls:\n",
    "        if type(element) not in primary_type: \n",
    "            if type(element) is dict or hasattr(element, '__dict__'): \n",
    "               new_ls.append(convert_model(element, dict())) \n",
    "\n",
    "        else:\n",
    "            if type(element) is list:\n",
    "                new_ls.append(process_list(element))\n",
    "            else: new_ls.append(element) \n",
    "    return new_ls\n",
    "\n",
    "def process_dict(diction: dict, new_diction = dict()): \n",
    "    '''\n",
    "    Return a dict \n",
    "    '''\n",
    "    new_diction['name_type_object'] = 'dict' \n",
    "    # primary_type= [int, np.uint8, float, np.float32, np.float64, np.ndarray,tuple, bool, str, type(None), list] \n",
    "    global primary_type \n",
    "\n",
    "    for key, value in diction.items(): \n",
    "        if \"method\" in str(type(value)) or \\\n",
    "            \"function\" in str(type(value)) or \\\n",
    "            \"attribute\" in str(type(value)): \n",
    "            continue\n",
    "\n",
    "        if hasattr(value, \"__dict__\"):\n",
    "            new_diction[key] = convert_model(value, dict()) \n",
    "        else:\n",
    "            if type(value) is list: \n",
    "                new_diction[key] = process_list(value)\n",
    "            elif type(value) is dict: \n",
    "                new_diction[key] = process_dict(value, dict())\n",
    "            elif type(value) in primary_type: \n",
    "                new_diction[key] = value \n",
    "            else: \n",
    "                print(f\"{key} : {value}, {type(value)} cannot saved\")\n",
    "                # exit(0) \n",
    "                try:\n",
    "                    new_diction[key] = str(value)\n",
    "                except:\n",
    "                    print(f\"Cannot save {key} : {value}; type: {type(value)}\")\n",
    "    return new_diction \n",
    "\n",
    "def convert_model(model, new_model = dict()):\n",
    "    '''\n",
    "    Return a new model \n",
    "    '''\n",
    "    new_model['name_type_object'] = type(model).__name__ if type(model).__name__ != \"type\" else model.__name__\n",
    "    \n",
    "    for key, value in model.__dict__.items(): \n",
    "        if hasattr(value, \"__dict__\"):\n",
    "            new_model[key] = convert_model(value, dict())\n",
    "        else: \n",
    "            if type(value) is list: \n",
    "                new_model[key] = process_list(value)\n",
    "            elif type(value) is dict: \n",
    "                new_model[key] = process_dict(value, dict())\n",
    "            elif type(value) in primary_type: \n",
    "                new_model[key] = value \n",
    "            else: \n",
    "                if \"method\" in str(type(value)) or \\\n",
    "                    \"function\" in str(type(value)) or \\\n",
    "                    \"attribute\" in str((value)) or \\\n",
    "                    \"object\" in str((value)): \n",
    "                    continue \n",
    "                print(f\"=={key} : {value}, {type(value)}==cannot saved\")\n",
    "                try:\n",
    "                    new_model[key] = str(value)\n",
    "                except:\n",
    "                    print(f\"Cannot save {key} : {value}; type: {type(value)}\")\n",
    "    return new_model"
   ]
  },
  {
   "cell_type": "code",
   "execution_count": 9,
   "metadata": {},
   "outputs": [
    {
     "data": {
      "text/plain": [
       "list"
      ]
     },
     "execution_count": 9,
     "metadata": {},
     "output_type": "execute_result"
    }
   ],
   "source": [
    "type(model.ls_model[0].history_cost)"
   ]
  },
  {
   "cell_type": "code",
   "execution_count": 14,
   "metadata": {},
   "outputs": [
    {
     "name": "stdout",
     "output_type": "stream",
     "text": [
      "<class 'MFEA_lib.model.SMP_MFEA.model'>\n",
      "model\n"
     ]
    }
   ],
   "source": [
    "print(type(model.ls_model[0]))\n",
    "print(type(model.ls_model[0]).__name__)"
   ]
  },
  {
   "cell_type": "code",
   "execution_count": 5,
   "metadata": {},
   "outputs": [],
   "source": [
    "new_model = convert_model(model, dict())\n",
    "import pickle \n",
    "with open(\"new_model.mso\", 'wb') as file: \n",
    "    pickle.dump(new_model, file)"
   ]
  },
  {
   "attachments": {},
   "cell_type": "markdown",
   "metadata": {},
   "source": [
    "** Problem: \n",
    "- \\_\\_name\\_\\_ modell in model.ls_model[0] cannot create because it is \"model\" :)"
   ]
  },
  {
   "cell_type": "code",
   "execution_count": 35,
   "metadata": {},
   "outputs": [
    {
     "name": "stdout",
     "output_type": "stream",
     "text": [
      "dict_keys(['name_type_object', 'model', 'name', 'list_attri_avg', 'ls_model', 'ls_seed', 'total_time', 'status', 'compile_kwargs', 'crossover', 'mutation', 'selection', 'search', 'attr_tasks', 'tasks', 'IndClass', 'args', 'kwargs', 'nb_generations', 'nb_inds_each_task', 'nb_inds_min', 'lr', 'p_const_intra', 'prob_search', 'lc_nums', 'nb_epochs_stop', 'swap_po', 'evaluate_initial_skillFactor', 'nb_run', 'history_cost', 'history_smp'])\n"
     ]
    }
   ],
   "source": [
    "print(new_model.keys())"
   ]
  },
  {
   "cell_type": "code",
   "execution_count": 36,
   "metadata": {},
   "outputs": [
    {
     "ename": "TypeError",
     "evalue": "convert_model() got an unexpected keyword argument 'ls_tasks'",
     "output_type": "error",
     "traceback": [
      "\u001b[1;31m---------------------------------------------------------------------------\u001b[0m",
      "\u001b[1;31mTypeError\u001b[0m                                 Traceback (most recent call last)",
      "Cell \u001b[1;32mIn[36], line 1\u001b[0m\n\u001b[1;32m----> 1\u001b[0m convert_model(\n\u001b[0;32m      2\u001b[0m     \u001b[39m\"\u001b[39;49m\u001b[39mC:/Users/Admin/Downloads/RESULT/Covert_ONLY_HISTORY/CEC17/COMPARE_KL_SBX_S-MFEA/SBX/S-MFEA_CEC17_PYTHON.mso\u001b[39;49m\u001b[39m\"\u001b[39;49m,\n\u001b[0;32m      3\u001b[0m     \u001b[39m\"\u001b[39;49m\u001b[39m\"\u001b[39;49m, \n\u001b[0;32m      4\u001b[0m     ls_tasks\u001b[39m=\u001b[39;49m CEC17_benchmark\u001b[39m.\u001b[39;49mget_10tasks_benchmark()[\u001b[39m0\u001b[39;49m],\n\u001b[0;32m      5\u001b[0m )\n",
      "\u001b[1;31mTypeError\u001b[0m: convert_model() got an unexpected keyword argument 'ls_tasks'"
     ]
    }
   ],
   "source": [
    "convert_model(\n",
    "    \"C:/Users/Admin/Downloads/RESULT/Covert_ONLY_HISTORY/CEC17/COMPARE_KL_SBX_S-MFEA/SBX/S-MFEA_CEC17_PYTHON.mso\",\n",
    "    \"\", \n",
    "    ls_tasks= CEC17_benchmark.get_10tasks_benchmark()[0],\n",
    ")"
   ]
  },
  {
   "cell_type": "code",
   "execution_count": null,
   "metadata": {},
   "outputs": [
    {
     "data": {
      "text/plain": [
       "<MFEA_lib.model.SMP_MFEA.model at 0x1d4488d91e0>"
      ]
     },
     "execution_count": 11,
     "metadata": {},
     "output_type": "execute_result"
    }
   ],
   "source": [
    "model.ls_model[0]"
   ]
  },
  {
   "cell_type": "code",
   "execution_count": null,
   "metadata": {},
   "outputs": [],
   "source": [
    "convert_model()"
   ]
  },
  {
   "cell_type": "code",
   "execution_count": null,
   "metadata": {},
   "outputs": [
    {
     "data": {
      "text/plain": [
       "numpy.ndarray"
      ]
     },
     "execution_count": 25,
     "metadata": {},
     "output_type": "execute_result"
    }
   ],
   "source": [
    "type((model.__dict__['history_cost']))"
   ]
  },
  {
   "cell_type": "code",
   "execution_count": null,
   "metadata": {},
   "outputs": [
    {
     "data": {
      "text/plain": [
       "dict_keys(['model', 'name', 'list_attri_avg', 'ls_model', 'ls_seed', 'total_time', 'status', 'compile_kwargs', 'crossover', 'mutation', 'selection', 'search', 'attr_tasks', 'tasks', 'IndClass', 'args', 'kwargs', 'nb_generations', 'nb_inds_each_task', 'nb_inds_min', 'lr', 'p_const_intra', 'prob_search', 'lc_nums', 'nb_epochs_stop', 'swap_po', 'evaluate_initial_skillFactor', 'nb_run', 'history_cost', 'history_smp'])"
      ]
     },
     "execution_count": 7,
     "metadata": {},
     "output_type": "execute_result"
    }
   ],
   "source": [
    "model.__dict__.keys()"
   ]
  },
  {
   "attachments": {},
   "cell_type": "markdown",
   "metadata": {},
   "source": [
    "## Load\n"
   ]
  },
  {
   "attachments": {},
   "cell_type": "markdown",
   "metadata": {},
   "source": [
    "### Load new .mso file"
   ]
  },
  {
   "cell_type": "code",
   "execution_count": 5,
   "metadata": {},
   "outputs": [],
   "source": [
    "import pickle \n",
    "import numpy as np \n",
    "\n",
    "with open(\"./new_model.mso\", 'rb') as file: \n",
    "    model_dict = pickle.load(file)\n",
    "\n",
    "# print(type(a))"
   ]
  },
  {
   "cell_type": "code",
   "execution_count": 9,
   "metadata": {},
   "outputs": [],
   "source": [
    "def restore_list_attr(ls):\n",
    "    global primary_type \n",
    "    # primary_type= [int, np.uint8, float, np.float32, np.float64, np.ndarray,tuple, bool, str, type(None), list]\n",
    "    new_ls = [] \n",
    "    for element in ls:\n",
    "        if type(element) in primary_type: \n",
    "            if type(element) is list:\n",
    "                new_ls.append(restore_list_attr(element))\n",
    "            else: new_ls.append(element) \n",
    "        else: \n",
    "            if type(element) is dict: \n",
    "                if element['name_type_object'] == 'dict': \n",
    "                    new_ls.append(restore_dict_attr(element))\n",
    "                else:\n",
    "                    new_ls.append(restore_from_dict(element))\n",
    "    return new_ls\n",
    "\n",
    "def restore_dict_attr(diction: dict): \n",
    "    new_dict = {}\n",
    "    global primary_type\n",
    "    # primary_type= [int, np.uint8, float, np.float32, np.float64, np.ndarray,tuple, bool, str, type(None), list]\n",
    "    for key, value in diction.items():\n",
    "        if type(value) is list:\n",
    "            new_dict[key]= restore_list_attr(value) \n",
    "            pass \n",
    "        elif type(value) is dict: \n",
    "            if value['name_type_object'] == 'dict': \n",
    "                new_dict[key] = restore_dict_attr(value)\n",
    "            else: \n",
    "                new_dict[key] = restore_from_dict(value) \n",
    "        elif type(value) in primary_type: \n",
    "            new_dict[key] = value \n",
    "        else: print(f\"{key}: {value} cannot assigned\")\n",
    "\n",
    "\n",
    "def assign_attribute(model, attri_diction: dict):\n",
    "    global primary_type\n",
    "    for key, value in attri_diction.items():\n",
    "        if type(value) is list: \n",
    "            # model.key = process_list_attr(value)\n",
    "            setattr(model, key, restore_list_attr(value))\n",
    "        elif type(value) is dict: \n",
    "            if value['name_type_object'] == 'dict': \n",
    "                setattr(model, key, restore_dict_attr(value))\n",
    "            else:\n",
    "                setattr(model, key, restore_from_dict(value))\n",
    "            # temp_model = loadNewModel(value) \n",
    "            # model.key = temp_model\n",
    "        elif type(value) in primary_type: \n",
    "            setattr(model, key, (value))\n",
    "            # model.key = value \n",
    "        else: \n",
    "            print(f\"{key}: {value} ||| {type(value)} cannot assigned\")\n",
    "        \n",
    "    return model \n",
    "\n",
    "\n",
    "def restore_from_dict(diction):\n",
    "    # Create model follow type \"name_type_object\"\n",
    "    # primary_type= [\"int\", \"np.uint8\", \"float\", \"np.float32\", \"np.float64\", \"np.float\", \"np.ndarray\",\"tuple\", \"bool\", \"str\", \"NoneType\"] \n",
    "    # primary_type = [str(type(x).__name__) for x in primary_type]\n",
    "    print(diction['name_type_object'])\n",
    "    class temp_class: \n",
    "        def __init__(self)->None:\n",
    "            pass \n",
    "\n",
    "    model = temp_class\n",
    "\n",
    "    new_model = assign_attribute(model(), diction)\n",
    "    return new_model \n"
   ]
  },
  {
   "cell_type": "code",
   "execution_count": null,
   "metadata": {},
   "outputs": [],
   "source": [
    "new_model = restore_from_dict(model_dict)"
   ]
  },
  {
   "cell_type": "code",
   "execution_count": null,
   "metadata": {},
   "outputs": [],
   "source": [
    "model_dict['ls_model']"
   ]
  },
  {
   "cell_type": "code",
   "execution_count": 15,
   "metadata": {},
   "outputs": [
    {
     "data": {
      "text/plain": [
       "array([[1.10499036e+05, 1.11413430e+05, 1.09430201e+05, ...,\n",
       "        1.13350167e+05, 1.11415546e+05, 1.09090756e+05],\n",
       "       [1.09185515e+05, 1.09990245e+05, 1.08862274e+05, ...,\n",
       "        1.12224713e+05, 1.10755671e+05, 1.08573066e+05],\n",
       "       [1.07711844e+05, 1.09511944e+05, 1.08461749e+05, ...,\n",
       "        1.11540641e+05, 1.08953806e+05, 1.07847828e+05],\n",
       "       ...,\n",
       "       [8.60070893e-01, 9.63130296e-01, 9.81602255e-01, ...,\n",
       "        1.18659847e+00, 1.24658694e+00, 1.27807594e+00],\n",
       "       [8.55662224e-01, 9.49325355e-01, 9.74076512e-01, ...,\n",
       "        1.18058710e+00, 1.24373271e+00, 1.27271950e+00],\n",
       "       [8.52230306e-01, 9.41964505e-01, 9.67978856e-01, ...,\n",
       "        1.17683135e+00, 1.23542599e+00, 1.25938853e+00]])"
      ]
     },
     "execution_count": 15,
     "metadata": {},
     "output_type": "execute_result"
    }
   ],
   "source": [
    "new_"
   ]
  },
  {
   "cell_type": "code",
   "execution_count": 11,
   "metadata": {},
   "outputs": [],
   "source": [
    "crossover = getattr(new_model.ls_model[0], 'crossover')"
   ]
  },
  {
   "cell_type": "code",
   "execution_count": 14,
   "metadata": {},
   "outputs": [
    {
     "name": "stdout",
     "output_type": "stream",
     "text": [
      "KL_SBXCrossover\n"
     ]
    }
   ],
   "source": [
    "print(crossover.name_type_object)"
   ]
  },
  {
   "cell_type": "code",
   "execution_count": null,
   "metadata": {},
   "outputs": [
    {
     "name": "stdout",
     "output_type": "stream",
     "text": [
      "<class 'type'>\n",
      "Test\n"
     ]
    }
   ],
   "source": [
    "class Test: \n",
    "    def __init__(self) -> None:\n",
    "        self.a = 1 \n",
    "    def __init__(self, a)-> None:\n",
    "        self.a = a  \n",
    "    \n",
    "a = Test\n",
    "# a.b = 12\n",
    "# print(a.b)\n",
    "print(type(a))\n",
    "print(a.__name__)"
   ]
  },
  {
   "cell_type": "code",
   "execution_count": null,
   "metadata": {},
   "outputs": [
    {
     "data": {
      "text/plain": [
       "NoneType"
      ]
     },
     "execution_count": 12,
     "metadata": {},
     "output_type": "execute_result"
    }
   ],
   "source": [
    "type(None)"
   ]
  }
 ],
 "metadata": {
  "kernelspec": {
   "display_name": "Python 3",
   "language": "python",
   "name": "python3"
  },
  "language_info": {
   "codemirror_mode": {
    "name": "ipython",
    "version": 3
   },
   "file_extension": ".py",
   "mimetype": "text/x-python",
   "name": "python",
   "nbconvert_exporter": "python",
   "pygments_lexer": "ipython3",
   "version": "3.10.8"
  },
  "orig_nbformat": 4,
  "vscode": {
   "interpreter": {
    "hash": "b8d1b4907526f6c690b53306aa8099ff2044546e3fe13a31c92e6decc3bd4676"
   }
  }
 },
 "nbformat": 4,
 "nbformat_minor": 2
}
