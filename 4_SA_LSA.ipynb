{
 "cells": [
  {
   "cell_type": "code",
   "execution_count": 1,
   "metadata": {},
   "outputs": [],
   "source": [
    "from MFEA_lib.model import SA_MFEA\n",
    "from MFEA_lib.operators.Crossover import *\n",
    "from MFEA_lib.operators.Mutation import PolynomialMutation, NoMutation\n",
    "from MFEA_lib.operators.Search import *\n",
    "from MFEA_lib.operators.Selection import *\n",
    "from MFEA_lib.tasks.Benchmark.Competitions import *\n",
    "import numpy as np\n"
   ]
  },
  {
   "cell_type": "markdown",
   "metadata": {},
   "source": [
    "<h3>CEC17 </h3>"
   ]
  },
  {
   "cell_type": "code",
   "execution_count": 2,
   "metadata": {},
   "outputs": [],
   "source": [
    "tasks, IndClass = CEC17_benchmark.get_10tasks_benchmark()\n"
   ]
  },
  {
   "cell_type": "code",
   "execution_count": 3,
   "metadata": {},
   "outputs": [
    {
     "name": "stdout",
     "output_type": "stream",
     "text": [
      "Seed: None -- Time: 00m 49.38s   99 % [===================>]  cost: 1.60E-16  4.04E-20  1.14E-25  0.00E+00  6.96E+01  4.88E-11  0.00E+00  6.36E-04  0.00E+00  0.00E+00  ,  End\n"
     ]
    },
    {
     "data": {
      "text/plain": [
       "[Genes: [0.5 0.5 0.5 0.5 0.5 0.5 0.5 0.5 0.5 0.5 0.5 0.5 0.5 0.5 0.5 0.5 0.5 0.5\n",
       "  0.5 0.5 0.5 0.5 0.5 0.5 0.5 0.5 0.5 0.5 0.5 0.5 0.5 0.5 0.5 0.5 0.5 0.5\n",
       "  0.5 0.5 0.5 0.5 0.5 0.5 0.5 0.5 0.5 0.5 0.5 0.5 0.5 0.5]\n",
       " Skill_factor: 0,\n",
       " Genes: [0.9 0.9 0.9 0.9 0.9 0.9 0.9 0.9 0.9 0.9 0.9 0.9 0.9 0.9 0.9 0.9 0.9 0.9\n",
       "  0.9 0.9 0.9 0.9 0.9 0.9 0.9 0.9 0.9 0.9 0.9 0.9 0.9 0.9 0.9 0.9 0.9 0.9\n",
       "  0.9 0.9 0.9 0.9 0.9 0.9 0.9 0.9 0.9 0.9 0.9 0.9 0.9 0.9]\n",
       " Skill_factor: 1,\n",
       " Genes: [0.1 0.1 0.1 0.1 0.1 0.1 0.1 0.1 0.1 0.1 0.1 0.1 0.1 0.1 0.1 0.1 0.1 0.1\n",
       "  0.1 0.1 0.1 0.1 0.1 0.1 0.1 0.1 0.1 0.1 0.1 0.1 0.1 0.1 0.1 0.1 0.1 0.1\n",
       "  0.1 0.1 0.1 0.1 0.1 0.1 0.1 0.1 0.1 0.1 0.1 0.1 0.1 0.1]\n",
       " Skill_factor: 2,\n",
       " Genes: [0.1        0.1        0.1        0.1        0.1        0.1\n",
       "  0.1        0.1        0.1        0.1        0.1        0.1\n",
       "  0.1        0.1        0.1        0.1        0.1        0.1\n",
       "  0.1        0.1        0.1        0.1        0.1        0.1\n",
       "  0.1        0.65002434 0.3410063  0.64253461 1.         0.30961886\n",
       "  0.48927709 0.34369584 0.36730532 0.         0.54666896 0.41613351\n",
       "  0.41389061 1.         0.83333177 0.         0.13984091 0.81307046\n",
       "  0.58740121 0.50882924 0.92018864 0.64989526 0.87989739 0.86471469\n",
       "  0.29952728 0.00692765]\n",
       " Skill_factor: 3,\n",
       " Genes: [0.50000297 0.50001216 0.49999835 0.49999839 0.49999098 0.4999838\n",
       "  0.49997428 0.49998693 0.49999055 0.49996723 0.49995297 0.49991797\n",
       "  0.49987928 0.49978676 0.4995946  0.49923501 0.49856503 0.49738868\n",
       "  0.49556293 0.4931416  0.49102128 0.49017482 0.49010431 0.49011703\n",
       "  0.49108555 0.49480963 0.49711279 0.49846923 0.49919843 0.49959541\n",
       "  0.49978597 0.49988837 0.4999473  0.49997558 0.49998337 0.49998763\n",
       "  0.49998343 0.49998517 0.49997829 0.49997373 0.49996522 0.49994838\n",
       "  0.49991598 0.49984766 0.49971559 0.49945463 0.4989492  0.49802671\n",
       "  0.49645223 0.49415332]\n",
       " Skill_factor: 4,\n",
       " Genes: [0.9 0.9 0.9 0.9 0.9 0.9 0.9 0.9 0.9 0.9 0.9 0.9 0.9 0.9 0.9 0.9 0.9 0.9\n",
       "  0.9 0.9 0.9 0.9 0.9 0.9 0.9 0.9 0.9 0.9 0.9 0.9 0.9 0.9 0.9 0.9 0.9 0.9\n",
       "  0.9 0.9 0.9 0.9 0.9 0.9 0.9 0.9 0.9 0.9 0.9 0.9 0.9 0.9]\n",
       " Skill_factor: 5,\n",
       " Genes: [0.1 0.1 0.1 0.1 0.1 0.1 0.1 0.1 0.1 0.1 0.1 0.1 0.1 0.1 0.1 0.1 0.1 0.1\n",
       "  0.1 0.1 0.1 0.1 0.1 0.1 0.1 0.1 0.1 0.1 0.1 0.1 0.1 0.1 0.1 0.1 0.1 0.1\n",
       "  0.1 0.1 0.1 0.1 0.1 0.1 0.1 0.1 0.1 0.1 0.1 0.1 0.1 0.1]\n",
       " Skill_factor: 6,\n",
       " Genes: [0.92096875 0.92096875 0.92096875 0.92096875 0.92096875 0.92096875\n",
       "  0.92096875 0.92096875 0.92096874 0.92096875 0.92096875 0.92096875\n",
       "  0.92096875 0.92096875 0.92096875 0.92096875 0.92096875 0.92096875\n",
       "  0.92096875 0.92096875 0.92096875 0.92096874 0.92096875 0.92096875\n",
       "  0.92096875 0.92096875 0.92096875 0.92096875 0.92096874 0.92096875\n",
       "  0.92096874 0.92096875 0.92096875 0.92096874 0.92096875 0.92096875\n",
       "  0.92096875 0.92096875 0.92096875 0.92096875 0.92096875 0.92096875\n",
       "  0.92096874 0.92096875 0.92096874 0.92096874 0.92096874 0.92096875\n",
       "  0.92096875 0.92096875]\n",
       " Skill_factor: 7,\n",
       " Genes: [0.1 0.1 0.1 0.1 0.1 0.1 0.1 0.1 0.1 0.1 0.1 0.1 0.1 0.1 0.1 0.1 0.1 0.1\n",
       "  0.1 0.1 0.1 0.1 0.1 0.1 0.1 0.9 0.9 0.9 0.9 0.9 0.9 0.9 0.9 0.9 0.9 0.9\n",
       "  0.9 0.9 0.9 0.9 0.9 0.9 0.9 0.9 0.9 0.9 0.9 0.9 0.9 0.9]\n",
       " Skill_factor: 8,\n",
       " Genes: [0.9 0.9 0.9 0.9 0.9 0.9 0.9 0.9 0.9 0.9 0.9 0.9 0.9 0.9 0.9 0.9 0.9 0.9\n",
       "  0.9 0.9 0.9 0.9 0.9 0.9 0.9 0.1 0.1 0.1 0.1 0.1 0.1 0.1 0.1 0.1 0.1 0.1\n",
       "  0.1 0.1 0.1 0.1 0.1 0.1 0.1 0.1 0.1 0.1 0.1 0.1 0.1 0.1]\n",
       " Skill_factor: 9]"
      ]
     },
     "execution_count": 3,
     "metadata": {},
     "output_type": "execute_result"
    }
   ],
   "source": [
    "smpModel = SA_MFEA.model()\n",
    "smpModel.compile( \n",
    "    IndClass= IndClass,\n",
    "    tasks= tasks,\n",
    "    crossover = KL_SBXCrossover(nc= 2, k= 100, conf_thres= 1),\n",
    "    # crossover = SBX_Crossover(nc = 2),\n",
    "    mutation = PolynomialMutation(nm = 5, pm= 1),\n",
    "    selection= ElitismSelection(random_percent= 0.1),\n",
    "    search= L_SHADE(len_mem= 15),\n",
    "    attr_tasks = ['crossover', 'mutation', 'search'],\n",
    ")\n",
    "smpModel.fit(\n",
    "    max_inds_each_task= list(np.zeros(shape= (len(tasks),), dtype= int) + 100),\n",
    "    min_inds_each_task= list(np.zeros(shape= (len(tasks),), dtype= int) + 50),\n",
    "    max_eval_each_task= list(np.zeros(shape= (len(tasks),), dtype= int) + 1000 * 100 ),\n",
    "    log_oneline= True,\n",
    "    num_epochs_printed= 1,\n",
    "    evaluate_initial_skillFactor= True,\n",
    ")"
   ]
  },
  {
   "cell_type": "code",
   "execution_count": 5,
   "metadata": {},
   "outputs": [],
   "source": [
    "gecco20 = GECCO20_benchmark_50tasks.get_items(ID= 1)"
   ]
  },
  {
   "cell_type": "code",
   "execution_count": 7,
   "metadata": {},
   "outputs": [
    {
     "data": {
      "text/plain": [
       "'Time: 00m 11.08s '"
      ]
     },
     "metadata": {},
     "output_type": "display_data"
    },
    {
     "data": {
      "text/plain": [
       "'  5 % [=>                  ]  '"
      ]
     },
     "metadata": {},
     "output_type": "display_data"
    },
    {
     "data": {
      "text/plain": [
       "'cost: 1.49E+04  9.01E+03  8.12E+03  1.26E+01  1.59E+08  1.76E+01  4.40E+01  1.47E+04  3.73E+00  3.18E+03  ,  '"
      ]
     },
     "metadata": {},
     "output_type": "display_data"
    },
    {
     "ename": "KeyboardInterrupt",
     "evalue": "",
     "output_type": "error",
     "traceback": [
      "\u001b[0;31m---------------------------------------------------------------------------\u001b[0m",
      "\u001b[0;31mKeyboardInterrupt\u001b[0m                         Traceback (most recent call last)",
      "\u001b[0;32m/tmp/ipykernel_225218/1909926660.py\u001b[0m in \u001b[0;36m<module>\u001b[0;34m\u001b[0m\n\u001b[1;32m      7\u001b[0m     \u001b[0mselection\u001b[0m\u001b[0;34m=\u001b[0m \u001b[0mElitismSelection\u001b[0m\u001b[0;34m(\u001b[0m\u001b[0;34m)\u001b[0m\u001b[0;34m\u001b[0m\u001b[0;34m\u001b[0m\u001b[0m\n\u001b[1;32m      8\u001b[0m )\n\u001b[0;32m----> 9\u001b[0;31m solve = saModel.fit(\n\u001b[0m\u001b[1;32m     10\u001b[0m     \u001b[0mmax_inds_each_task\u001b[0m\u001b[0;34m=\u001b[0m \u001b[0mlist\u001b[0m\u001b[0;34m(\u001b[0m\u001b[0mnp\u001b[0m\u001b[0;34m.\u001b[0m\u001b[0mzeros\u001b[0m\u001b[0;34m(\u001b[0m\u001b[0mshape\u001b[0m\u001b[0;34m=\u001b[0m \u001b[0;34m(\u001b[0m\u001b[0mlen\u001b[0m\u001b[0;34m(\u001b[0m\u001b[0mcec17_10tasks\u001b[0m\u001b[0;34m)\u001b[0m\u001b[0;34m,\u001b[0m\u001b[0;34m)\u001b[0m\u001b[0;34m,\u001b[0m \u001b[0mdtype\u001b[0m\u001b[0;34m=\u001b[0m \u001b[0mint\u001b[0m\u001b[0;34m)\u001b[0m \u001b[0;34m+\u001b[0m \u001b[0;36m100\u001b[0m\u001b[0;34m)\u001b[0m\u001b[0;34m,\u001b[0m\u001b[0;34m\u001b[0m\u001b[0;34m\u001b[0m\u001b[0m\n\u001b[1;32m     11\u001b[0m     \u001b[0mmin_inds_each_task\u001b[0m\u001b[0;34m=\u001b[0m \u001b[0mlist\u001b[0m\u001b[0;34m(\u001b[0m\u001b[0mnp\u001b[0m\u001b[0;34m.\u001b[0m\u001b[0mzeros\u001b[0m\u001b[0;34m(\u001b[0m\u001b[0mshape\u001b[0m\u001b[0;34m=\u001b[0m \u001b[0;34m(\u001b[0m\u001b[0mlen\u001b[0m\u001b[0;34m(\u001b[0m\u001b[0mcec17_10tasks\u001b[0m\u001b[0;34m)\u001b[0m\u001b[0;34m,\u001b[0m\u001b[0;34m)\u001b[0m\u001b[0;34m,\u001b[0m \u001b[0mdtype\u001b[0m\u001b[0;34m=\u001b[0m \u001b[0mint\u001b[0m\u001b[0;34m)\u001b[0m \u001b[0;34m+\u001b[0m \u001b[0;36m50\u001b[0m\u001b[0;34m)\u001b[0m\u001b[0;34m,\u001b[0m\u001b[0;34m\u001b[0m\u001b[0;34m\u001b[0m\u001b[0m\n",
      "\u001b[0;32m/mnt/ee1bd79c-6956-419b-951b-4699528687d7/MFEA_MSO/MFEA_lib/model/SA_MFEA.py\u001b[0m in \u001b[0;36mfit\u001b[0;34m(self, max_inds_each_task, min_inds_each_task, max_eval_each_task, H, LSA, bound, evaluate_initial_skillFactor, *args, **kwargs)\u001b[0m\n\u001b[1;32m    150\u001b[0m                         \u001b[0;32mwhile\u001b[0m \u001b[0mpb1\u001b[0m \u001b[0;32mis\u001b[0m \u001b[0mpb\u001b[0m\u001b[0;34m:\u001b[0m\u001b[0;34m\u001b[0m\u001b[0;34m\u001b[0m\u001b[0m\n\u001b[1;32m    151\u001b[0m                             \u001b[0mpb1\u001b[0m \u001b[0;34m=\u001b[0m \u001b[0mpopulation\u001b[0m\u001b[0;34m[\u001b[0m\u001b[0mpb\u001b[0m\u001b[0;34m.\u001b[0m\u001b[0mskill_factor\u001b[0m\u001b[0;34m]\u001b[0m\u001b[0;34m.\u001b[0m\u001b[0m__getRandomItems__\u001b[0m\u001b[0;34m(\u001b[0m\u001b[0;34m)\u001b[0m\u001b[0;34m\u001b[0m\u001b[0;34m\u001b[0m\u001b[0m\n\u001b[0;32m--> 152\u001b[0;31m                         \u001b[0mob\u001b[0m\u001b[0;34m,\u001b[0m \u001b[0m_\u001b[0m \u001b[0;34m=\u001b[0m \u001b[0mself\u001b[0m\u001b[0;34m.\u001b[0m\u001b[0mcrossover\u001b[0m\u001b[0;34m(\u001b[0m\u001b[0mpb\u001b[0m\u001b[0;34m,\u001b[0m \u001b[0mpb1\u001b[0m\u001b[0;34m)\u001b[0m\u001b[0;34m\u001b[0m\u001b[0;34m\u001b[0m\u001b[0m\n\u001b[0m\u001b[1;32m    153\u001b[0m                         \u001b[0mob\u001b[0m\u001b[0;34m.\u001b[0m\u001b[0mskill_factor\u001b[0m \u001b[0;34m=\u001b[0m \u001b[0mpb\u001b[0m\u001b[0;34m.\u001b[0m\u001b[0mskill_factor\u001b[0m\u001b[0;34m\u001b[0m\u001b[0;34m\u001b[0m\u001b[0m\n\u001b[1;32m    154\u001b[0m \u001b[0;34m\u001b[0m\u001b[0m\n",
      "\u001b[0;32m/mnt/ee1bd79c-6956-419b-951b-4699528687d7/MFEA_MSO/MFEA_lib/operators/Crossover.py\u001b[0m in \u001b[0;36m__call__\u001b[0;34m(self, pa, pb, skf_oa, skf_ob, *args, **kwargs)\u001b[0m\n\u001b[1;32m     39\u001b[0m         \u001b[0moa\u001b[0m \u001b[0;34m=\u001b[0m \u001b[0mself\u001b[0m\u001b[0;34m.\u001b[0m\u001b[0mIndClass\u001b[0m\u001b[0;34m(\u001b[0m\u001b[0mnp\u001b[0m\u001b[0;34m.\u001b[0m\u001b[0mclip\u001b[0m\u001b[0;34m(\u001b[0m\u001b[0;36m0.5\u001b[0m\u001b[0;34m*\u001b[0m\u001b[0;34m(\u001b[0m\u001b[0;34m(\u001b[0m\u001b[0;36m1\u001b[0m \u001b[0;34m+\u001b[0m \u001b[0mbeta\u001b[0m\u001b[0;34m)\u001b[0m \u001b[0;34m*\u001b[0m \u001b[0mpa\u001b[0m\u001b[0;34m.\u001b[0m\u001b[0mgenes\u001b[0m \u001b[0;34m+\u001b[0m \u001b[0;34m(\u001b[0m\u001b[0;36m1\u001b[0m \u001b[0;34m-\u001b[0m \u001b[0mbeta\u001b[0m\u001b[0;34m)\u001b[0m \u001b[0;34m*\u001b[0m \u001b[0mpb\u001b[0m\u001b[0;34m.\u001b[0m\u001b[0mgenes\u001b[0m\u001b[0;34m)\u001b[0m\u001b[0;34m,\u001b[0m \u001b[0;36m0\u001b[0m\u001b[0;34m,\u001b[0m \u001b[0;36m1\u001b[0m\u001b[0;34m)\u001b[0m\u001b[0;34m)\u001b[0m\u001b[0;34m\u001b[0m\u001b[0;34m\u001b[0m\u001b[0m\n\u001b[1;32m     40\u001b[0m         \u001b[0;31m#like pb\u001b[0m\u001b[0;34m\u001b[0m\u001b[0;34m\u001b[0m\u001b[0;34m\u001b[0m\u001b[0m\n\u001b[0;32m---> 41\u001b[0;31m         \u001b[0mob\u001b[0m \u001b[0;34m=\u001b[0m \u001b[0mself\u001b[0m\u001b[0;34m.\u001b[0m\u001b[0mIndClass\u001b[0m\u001b[0;34m(\u001b[0m\u001b[0mnp\u001b[0m\u001b[0;34m.\u001b[0m\u001b[0mclip\u001b[0m\u001b[0;34m(\u001b[0m\u001b[0;36m0.5\u001b[0m\u001b[0;34m*\u001b[0m\u001b[0;34m(\u001b[0m\u001b[0;34m(\u001b[0m\u001b[0;36m1\u001b[0m \u001b[0;34m-\u001b[0m \u001b[0mbeta\u001b[0m\u001b[0;34m)\u001b[0m \u001b[0;34m*\u001b[0m \u001b[0mpa\u001b[0m\u001b[0;34m.\u001b[0m\u001b[0mgenes\u001b[0m \u001b[0;34m+\u001b[0m \u001b[0;34m(\u001b[0m\u001b[0;36m1\u001b[0m \u001b[0;34m+\u001b[0m \u001b[0mbeta\u001b[0m\u001b[0;34m)\u001b[0m \u001b[0;34m*\u001b[0m \u001b[0mpb\u001b[0m\u001b[0;34m.\u001b[0m\u001b[0mgenes\u001b[0m\u001b[0;34m)\u001b[0m\u001b[0;34m,\u001b[0m \u001b[0;36m0\u001b[0m\u001b[0;34m,\u001b[0m \u001b[0;36m1\u001b[0m\u001b[0;34m)\u001b[0m\u001b[0;34m)\u001b[0m\u001b[0;34m\u001b[0m\u001b[0;34m\u001b[0m\u001b[0m\n\u001b[0m\u001b[1;32m     42\u001b[0m \u001b[0;34m\u001b[0m\u001b[0m\n\u001b[1;32m     43\u001b[0m         \u001b[0;32mif\u001b[0m \u001b[0mpa\u001b[0m\u001b[0;34m.\u001b[0m\u001b[0mskill_factor\u001b[0m \u001b[0;34m==\u001b[0m \u001b[0mpb\u001b[0m\u001b[0;34m.\u001b[0m\u001b[0mskill_factor\u001b[0m\u001b[0;34m:\u001b[0m\u001b[0;34m\u001b[0m\u001b[0;34m\u001b[0m\u001b[0m\n",
      "\u001b[0;32m<__array_function__ internals>\u001b[0m in \u001b[0;36mclip\u001b[0;34m(*args, **kwargs)\u001b[0m\n",
      "\u001b[0;32m/usr/local/lib/python3.9/dist-packages/numpy/core/fromnumeric.py\u001b[0m in \u001b[0;36mclip\u001b[0;34m(a, a_min, a_max, out, **kwargs)\u001b[0m\n\u001b[1;32m   2113\u001b[0m \u001b[0;34m\u001b[0m\u001b[0m\n\u001b[1;32m   2114\u001b[0m     \"\"\"\n\u001b[0;32m-> 2115\u001b[0;31m     \u001b[0;32mreturn\u001b[0m \u001b[0m_wrapfunc\u001b[0m\u001b[0;34m(\u001b[0m\u001b[0ma\u001b[0m\u001b[0;34m,\u001b[0m \u001b[0;34m'clip'\u001b[0m\u001b[0;34m,\u001b[0m \u001b[0ma_min\u001b[0m\u001b[0;34m,\u001b[0m \u001b[0ma_max\u001b[0m\u001b[0;34m,\u001b[0m \u001b[0mout\u001b[0m\u001b[0;34m=\u001b[0m\u001b[0mout\u001b[0m\u001b[0;34m,\u001b[0m \u001b[0;34m**\u001b[0m\u001b[0mkwargs\u001b[0m\u001b[0;34m)\u001b[0m\u001b[0;34m\u001b[0m\u001b[0;34m\u001b[0m\u001b[0m\n\u001b[0m\u001b[1;32m   2116\u001b[0m \u001b[0;34m\u001b[0m\u001b[0m\n\u001b[1;32m   2117\u001b[0m \u001b[0;34m\u001b[0m\u001b[0m\n",
      "\u001b[0;32m/usr/local/lib/python3.9/dist-packages/numpy/core/fromnumeric.py\u001b[0m in \u001b[0;36m_wrapfunc\u001b[0;34m(obj, method, *args, **kwds)\u001b[0m\n\u001b[1;32m     55\u001b[0m \u001b[0;34m\u001b[0m\u001b[0m\n\u001b[1;32m     56\u001b[0m     \u001b[0;32mtry\u001b[0m\u001b[0;34m:\u001b[0m\u001b[0;34m\u001b[0m\u001b[0;34m\u001b[0m\u001b[0m\n\u001b[0;32m---> 57\u001b[0;31m         \u001b[0;32mreturn\u001b[0m \u001b[0mbound\u001b[0m\u001b[0;34m(\u001b[0m\u001b[0;34m*\u001b[0m\u001b[0margs\u001b[0m\u001b[0;34m,\u001b[0m \u001b[0;34m**\u001b[0m\u001b[0mkwds\u001b[0m\u001b[0;34m)\u001b[0m\u001b[0;34m\u001b[0m\u001b[0;34m\u001b[0m\u001b[0m\n\u001b[0m\u001b[1;32m     58\u001b[0m     \u001b[0;32mexcept\u001b[0m \u001b[0mTypeError\u001b[0m\u001b[0;34m:\u001b[0m\u001b[0;34m\u001b[0m\u001b[0;34m\u001b[0m\u001b[0m\n\u001b[1;32m     59\u001b[0m         \u001b[0;31m# A TypeError occurs if the object does have such a method in its\u001b[0m\u001b[0;34m\u001b[0m\u001b[0;34m\u001b[0m\u001b[0;34m\u001b[0m\u001b[0m\n",
      "\u001b[0;32m/usr/local/lib/python3.9/dist-packages/numpy/core/_methods.py\u001b[0m in \u001b[0;36m_clip\u001b[0;34m(a, min, max, out, casting, **kwargs)\u001b[0m\n\u001b[1;32m    135\u001b[0m             \u001b[0mmin\u001b[0m \u001b[0;34m=\u001b[0m \u001b[0;34m-\u001b[0m\u001b[0mfloat\u001b[0m\u001b[0;34m(\u001b[0m\u001b[0;34m'inf'\u001b[0m\u001b[0;34m)\u001b[0m\u001b[0;34m\u001b[0m\u001b[0;34m\u001b[0m\u001b[0m\n\u001b[1;32m    136\u001b[0m             \u001b[0musing_deprecated_nan\u001b[0m \u001b[0;34m=\u001b[0m \u001b[0;32mTrue\u001b[0m\u001b[0;34m\u001b[0m\u001b[0;34m\u001b[0m\u001b[0m\n\u001b[0;32m--> 137\u001b[0;31m         \u001b[0;32mif\u001b[0m \u001b[0m_clip_dep_is_scalar_nan\u001b[0m\u001b[0;34m(\u001b[0m\u001b[0mmax\u001b[0m\u001b[0;34m)\u001b[0m\u001b[0;34m:\u001b[0m\u001b[0;34m\u001b[0m\u001b[0;34m\u001b[0m\u001b[0m\n\u001b[0m\u001b[1;32m    138\u001b[0m             \u001b[0mmax\u001b[0m \u001b[0;34m=\u001b[0m \u001b[0mfloat\u001b[0m\u001b[0;34m(\u001b[0m\u001b[0;34m'inf'\u001b[0m\u001b[0;34m)\u001b[0m\u001b[0;34m\u001b[0m\u001b[0;34m\u001b[0m\u001b[0m\n\u001b[1;32m    139\u001b[0m             \u001b[0musing_deprecated_nan\u001b[0m \u001b[0;34m=\u001b[0m \u001b[0;32mTrue\u001b[0m\u001b[0;34m\u001b[0m\u001b[0;34m\u001b[0m\u001b[0m\n",
      "\u001b[0;32m/usr/local/lib/python3.9/dist-packages/numpy/core/_methods.py\u001b[0m in \u001b[0;36m_clip_dep_is_scalar_nan\u001b[0;34m(a)\u001b[0m\n\u001b[1;32m     95\u001b[0m         \u001b[0;32mreturn\u001b[0m \u001b[0;32mFalse\u001b[0m\u001b[0;34m\u001b[0m\u001b[0;34m\u001b[0m\u001b[0m\n\u001b[1;32m     96\u001b[0m     \u001b[0;32mtry\u001b[0m\u001b[0;34m:\u001b[0m\u001b[0;34m\u001b[0m\u001b[0;34m\u001b[0m\u001b[0m\n\u001b[0;32m---> 97\u001b[0;31m         \u001b[0;32mreturn\u001b[0m \u001b[0mum\u001b[0m\u001b[0;34m.\u001b[0m\u001b[0misnan\u001b[0m\u001b[0;34m(\u001b[0m\u001b[0ma\u001b[0m\u001b[0;34m)\u001b[0m\u001b[0;34m\u001b[0m\u001b[0;34m\u001b[0m\u001b[0m\n\u001b[0m\u001b[1;32m     98\u001b[0m     \u001b[0;32mexcept\u001b[0m \u001b[0mTypeError\u001b[0m\u001b[0;34m:\u001b[0m\u001b[0;34m\u001b[0m\u001b[0;34m\u001b[0m\u001b[0m\n\u001b[1;32m     99\u001b[0m         \u001b[0;32mreturn\u001b[0m \u001b[0;32mFalse\u001b[0m\u001b[0;34m\u001b[0m\u001b[0;34m\u001b[0m\u001b[0m\n",
      "\u001b[0;31mKeyboardInterrupt\u001b[0m: "
     ]
    }
   ],
   "source": [
    "saModel = SA_MFEA.model(seed= 3)\n",
    "saModel.compile(\n",
    "    IndClass= IndClass,\n",
    "    tasks= cec17_10tasks, \n",
    "    crossover= SBX_Crossover(nc= 2), \n",
    "    mutation= PolynomialMutation(nm = 5), \n",
    "    selection= ElitismSelection() \n",
    ")\n",
    "solve = saModel.fit(\n",
    "    max_inds_each_task= list(np.zeros(shape= (len(cec17_10tasks),), dtype= int) + 100),\n",
    "    min_inds_each_task= list(np.zeros(shape= (len(cec17_10tasks),), dtype= int) + 50),\n",
    "    max_eval_each_task= list(np.zeros(shape= (len(cec17_10tasks),), dtype= int) + 1000 * 100 ),\n",
    "    log_oneline= True,\n",
    "    num_epochs_printed= 1,\n",
    "    evaluate_initial_skillFactor= True,\n",
    "    LSA= True\n",
    ")"
   ]
  },
  {
   "cell_type": "code",
   "execution_count": null,
   "metadata": {},
   "outputs": [],
   "source": [
    "saModel.render_rmp()"
   ]
  },
  {
   "cell_type": "code",
   "execution_count": null,
   "metadata": {},
   "outputs": [],
   "source": [
    "saModel.render_history(shape= (2,5), yscale='log')"
   ]
  },
  {
   "cell_type": "markdown",
   "metadata": {},
   "source": [
    "<h5> Gauss Try Model </h5>"
   ]
  },
  {
   "cell_type": "code",
   "execution_count": 6,
   "metadata": {},
   "outputs": [
    {
     "name": "stdout",
     "output_type": "stream",
     "text": [
      "Time: 13m 25.95s   99 % [===================>]  cost: 2.41E-21  4.14E-22  4.37E-22  2.26E-22  9.60E-22  3.00E-22  3.56E-22  2.42E-22  9.61E-22  6.61E-22  1.26E-21  3.82E-22  4.23E-22  4.05E-22  2.32E-22  1.82E-22  1.04E-21  4.13E-21  7.94E-22  2.67E-22  4.44E-21  2.85E-22  7.80E-22  3.05E-22  2.76E-22  4.96E-22  1.23E-21  2.05E-22  9.25E-23  5.21E-22  6.95E-22  8.58E-23  7.16E-22  2.72E-22  1.90E-22  2.13E-22  6.10E-22  6.12E-22  6.11E-22  2.00E-21  6.87E-22  2.83E-22  1.13E-21  8.41E-22  4.02E-22  7.79E-22  4.75E-22  1.99E-21  1.10E-21  4.58E-22  ,  eval: 9.90E+04  9.94E+04  9.91E+04  9.90E+04  9.91E+04  9.93E+04  9.90E+04  9.92E+04  9.90E+04  9.91E+04  9.88E+04  9.92E+04  9.90E+04  9.91E+04  9.93E+04  9.93E+04  9.93E+04  9.89E+04  9.91E+04  9.93E+04  9.90E+04  9.89E+04  9.91E+04  9.91E+04  9.90E+04  9.92E+04  9.93E+04  9.94E+04  9.93E+04  9.93E+04  9.90E+04  9.92E+04  9.92E+04  9.91E+04  9.90E+04  9.93E+04  9.91E+04  9.91E+04  9.90E+04  9.92E+04  9.91E+04  9.92E+04  9.91E+04  9.93E+04  9.92E+04  9.93E+04  9.91E+04  9.90E+04  9.93E+04  9.91E+04  ,  ti_le_gauss: 5.00E-01  5.00E-01  5.00E-01  5.00E-01  5.00E-01  5.00E-01  5.00E-01  5.00E-01  5.00E-01  5.00E-01  5.00E-01  5.00E-01  5.00E-01  5.00E-01  5.00E-01  5.00E-01  5.00E-01  5.00E-01  5.00E-01  5.00E-01  5.00E-01  5.00E-01  5.00E-01  5.00E-01  5.00E-01  5.00E-01  5.00E-01  5.00E-01  5.00E-01  5.00E-01  5.00E-01  5.00E-01  5.00E-01  5.00E-01  5.00E-01  5.00E-01  5.00E-01  5.00E-01  5.00E-01  5.00E-01  5.00E-01  5.00E-01  5.00E-01  5.00E-01  5.00E-01  5.00E-01  5.00E-01  5.00E-01  5.00E-01  5.00E-01  ,  "
     ]
    },
    {
     "ename": "KeyboardInterrupt",
     "evalue": "",
     "output_type": "error",
     "traceback": [
      "\u001b[1;31m---------------------------------------------------------------------------\u001b[0m",
      "\u001b[1;31mKeyboardInterrupt\u001b[0m                         Traceback (most recent call last)",
      "\u001b[1;32md:\\OneDrive - Hanoi University of Science and Technology\\My_self\\Work\\Lab\\Code_Lab\\KM-MSO\\Origin_Branch\\MFEA_MSO\\4_SA_LSA.ipynb Cell 11'\u001b[0m in \u001b[0;36m<cell line: 13>\u001b[1;34m()\u001b[0m\n\u001b[0;32m      <a href='vscode-notebook-cell:/d%3A/OneDrive%20-%20Hanoi%20University%20of%20Science%20and%20Technology/My_self/Work/Lab/Code_Lab/KM-MSO/Origin_Branch/MFEA_MSO/4_SA_LSA.ipynb#ch0000010?line=2'>3</a>\u001b[0m gauss_try_model \u001b[39m=\u001b[39m Gauss_Try\u001b[39m.\u001b[39mmodel(seed \u001b[39m=\u001b[39m \u001b[39m3\u001b[39m)\n\u001b[0;32m      <a href='vscode-notebook-cell:/d%3A/OneDrive%20-%20Hanoi%20University%20of%20Science%20and%20Technology/My_self/Work/Lab/Code_Lab/KM-MSO/Origin_Branch/MFEA_MSO/4_SA_LSA.ipynb#ch0000010?line=3'>4</a>\u001b[0m gauss_try_model\u001b[39m.\u001b[39mcompile(\n\u001b[0;32m      <a href='vscode-notebook-cell:/d%3A/OneDrive%20-%20Hanoi%20University%20of%20Science%20and%20Technology/My_self/Work/Lab/Code_Lab/KM-MSO/Origin_Branch/MFEA_MSO/4_SA_LSA.ipynb#ch0000010?line=4'>5</a>\u001b[0m     tasks\u001b[39m=\u001b[39m cec17_10tasks, \n\u001b[0;32m      <a href='vscode-notebook-cell:/d%3A/OneDrive%20-%20Hanoi%20University%20of%20Science%20and%20Technology/My_self/Work/Lab/Code_Lab/KM-MSO/Origin_Branch/MFEA_MSO/4_SA_LSA.ipynb#ch0000010?line=5'>6</a>\u001b[0m     crossover\u001b[39m=\u001b[39m SBX_Crossover(nc\u001b[39m=\u001b[39m \u001b[39m2\u001b[39m),\n\u001b[1;32m   (...)\u001b[0m\n\u001b[0;32m     <a href='vscode-notebook-cell:/d%3A/OneDrive%20-%20Hanoi%20University%20of%20Science%20and%20Technology/My_self/Work/Lab/Code_Lab/KM-MSO/Origin_Branch/MFEA_MSO/4_SA_LSA.ipynb#ch0000010?line=9'>10</a>\u001b[0m     \u001b[39m# selection = ElitismSelection()\u001b[39;00m\n\u001b[0;32m     <a href='vscode-notebook-cell:/d%3A/OneDrive%20-%20Hanoi%20University%20of%20Science%20and%20Technology/My_self/Work/Lab/Code_Lab/KM-MSO/Origin_Branch/MFEA_MSO/4_SA_LSA.ipynb#ch0000010?line=10'>11</a>\u001b[0m )\n\u001b[1;32m---> <a href='vscode-notebook-cell:/d%3A/OneDrive%20-%20Hanoi%20University%20of%20Science%20and%20Technology/My_self/Work/Lab/Code_Lab/KM-MSO/Origin_Branch/MFEA_MSO/4_SA_LSA.ipynb#ch0000010?line=12'>13</a>\u001b[0m solve, p_matrix, de_thanh_cong,sbx_thanh_cong, sbx_khong_thanh_cong  \u001b[39m=\u001b[39m gauss_try_model\u001b[39m.\u001b[39;49mfit(\n\u001b[0;32m     <a href='vscode-notebook-cell:/d%3A/OneDrive%20-%20Hanoi%20University%20of%20Science%20and%20Technology/My_self/Work/Lab/Code_Lab/KM-MSO/Origin_Branch/MFEA_MSO/4_SA_LSA.ipynb#ch0000010?line=13'>14</a>\u001b[0m     max_inds_each_task\u001b[39m=\u001b[39;49m \u001b[39mlist\u001b[39;49m(np\u001b[39m.\u001b[39;49mzeros(shape\u001b[39m=\u001b[39;49m (\u001b[39mlen\u001b[39;49m(cec17_10tasks),), dtype\u001b[39m=\u001b[39;49m \u001b[39mint\u001b[39;49m) \u001b[39m+\u001b[39;49m \u001b[39m100\u001b[39;49m),\n\u001b[0;32m     <a href='vscode-notebook-cell:/d%3A/OneDrive%20-%20Hanoi%20University%20of%20Science%20and%20Technology/My_self/Work/Lab/Code_Lab/KM-MSO/Origin_Branch/MFEA_MSO/4_SA_LSA.ipynb#ch0000010?line=14'>15</a>\u001b[0m     min_inds_each_task\u001b[39m=\u001b[39;49m \u001b[39mlist\u001b[39;49m(np\u001b[39m.\u001b[39;49mzeros(shape\u001b[39m=\u001b[39;49m (\u001b[39mlen\u001b[39;49m(cec17_10tasks),), dtype\u001b[39m=\u001b[39;49m \u001b[39mint\u001b[39;49m) \u001b[39m+\u001b[39;49m \u001b[39m20\u001b[39;49m),\n\u001b[0;32m     <a href='vscode-notebook-cell:/d%3A/OneDrive%20-%20Hanoi%20University%20of%20Science%20and%20Technology/My_self/Work/Lab/Code_Lab/KM-MSO/Origin_Branch/MFEA_MSO/4_SA_LSA.ipynb#ch0000010?line=15'>16</a>\u001b[0m     max_eval_each_task\u001b[39m=\u001b[39;49m \u001b[39mlist\u001b[39;49m(np\u001b[39m.\u001b[39;49mzeros(shape\u001b[39m=\u001b[39;49m (\u001b[39mlen\u001b[39;49m(cec17_10tasks,)), dtype\u001b[39m=\u001b[39;49m \u001b[39mint\u001b[39;49m) \u001b[39m+\u001b[39;49m \u001b[39m1000\u001b[39;49m \u001b[39m*\u001b[39;49m \u001b[39m100\u001b[39;49m ),\n\u001b[0;32m     <a href='vscode-notebook-cell:/d%3A/OneDrive%20-%20Hanoi%20University%20of%20Science%20and%20Technology/My_self/Work/Lab/Code_Lab/KM-MSO/Origin_Branch/MFEA_MSO/4_SA_LSA.ipynb#ch0000010?line=16'>17</a>\u001b[0m     log_oneline\u001b[39m=\u001b[39;49m \u001b[39mTrue\u001b[39;49;00m,\n\u001b[0;32m     <a href='vscode-notebook-cell:/d%3A/OneDrive%20-%20Hanoi%20University%20of%20Science%20and%20Technology/My_self/Work/Lab/Code_Lab/KM-MSO/Origin_Branch/MFEA_MSO/4_SA_LSA.ipynb#ch0000010?line=17'>18</a>\u001b[0m     num_epochs_printed\u001b[39m=\u001b[39;49m \u001b[39m1\u001b[39;49m,\n\u001b[0;32m     <a href='vscode-notebook-cell:/d%3A/OneDrive%20-%20Hanoi%20University%20of%20Science%20and%20Technology/My_self/Work/Lab/Code_Lab/KM-MSO/Origin_Branch/MFEA_MSO/4_SA_LSA.ipynb#ch0000010?line=18'>19</a>\u001b[0m     evaluate_initial_skillFactor\u001b[39m=\u001b[39;49m \u001b[39mTrue\u001b[39;49;00m,\n\u001b[0;32m     <a href='vscode-notebook-cell:/d%3A/OneDrive%20-%20Hanoi%20University%20of%20Science%20and%20Technology/My_self/Work/Lab/Code_Lab/KM-MSO/Origin_Branch/MFEA_MSO/4_SA_LSA.ipynb#ch0000010?line=19'>20</a>\u001b[0m     LSA\u001b[39m=\u001b[39;49m \u001b[39mTrue\u001b[39;49;00m\n\u001b[0;32m     <a href='vscode-notebook-cell:/d%3A/OneDrive%20-%20Hanoi%20University%20of%20Science%20and%20Technology/My_self/Work/Lab/Code_Lab/KM-MSO/Origin_Branch/MFEA_MSO/4_SA_LSA.ipynb#ch0000010?line=20'>21</a>\u001b[0m )\n",
      "File \u001b[1;32md:\\OneDrive - Hanoi University of Science and Technology\\My_self\\Work\\Lab\\Code_Lab\\KM-MSO\\Origin_Branch\\MFEA_MSO\\MFEA_lib\\model\\Gauss_Try.py:236\u001b[0m, in \u001b[0;36mmodel.fit\u001b[1;34m(self, max_inds_each_task, min_inds_each_task, max_eval_each_task, LSA, bound, evaluate_initial_skillFactor, log_oneline, num_epochs_printed, *args, **kwargs)\u001b[0m\n\u001b[0;32m    <a href='file:///d%3A/OneDrive%20-%20Hanoi%20University%20of%20Science%20and%20Technology/My_self/Work/Lab/Code_Lab/KM-MSO/Origin_Branch/MFEA_MSO/MFEA_lib/model/Gauss_Try.py?line=231'>232</a>\u001b[0m \u001b[39mif\u001b[39;00m np\u001b[39m.\u001b[39mrandom\u001b[39m.\u001b[39mrand() \u001b[39m<\u001b[39m \u001b[39m1.1\u001b[39m: \n\u001b[0;32m    <a href='file:///d%3A/OneDrive%20-%20Hanoi%20University%20of%20Science%20and%20Technology/My_self/Work/Lab/Code_Lab/KM-MSO/Origin_Branch/MFEA_MSO/MFEA_lib/model/Gauss_Try.py?line=232'>233</a>\u001b[0m     \u001b[39m'''\u001b[39;00m\n\u001b[0;32m    <a href='file:///d%3A/OneDrive%20-%20Hanoi%20University%20of%20Science%20and%20Technology/My_self/Work/Lab/Code_Lab/KM-MSO/Origin_Branch/MFEA_MSO/MFEA_lib/model/Gauss_Try.py?line=233'>234</a>\u001b[0m \u001b[39m    DE\u001b[39;00m\n\u001b[0;32m    <a href='file:///d%3A/OneDrive%20-%20Hanoi%20University%20of%20Science%20and%20Technology/My_self/Work/Lab/Code_Lab/KM-MSO/Origin_Branch/MFEA_MSO/MFEA_lib/model/Gauss_Try.py?line=234'>235</a>\u001b[0m \u001b[39m    '''\u001b[39;00m\n\u001b[1;32m--> <a href='file:///d%3A/OneDrive%20-%20Hanoi%20University%20of%20Science%20and%20Technology/My_self/Work/Lab/Code_Lab/KM-MSO/Origin_Branch/MFEA_MSO/MFEA_lib/model/Gauss_Try.py?line=235'>236</a>\u001b[0m     new_ind \u001b[39m=\u001b[39m \u001b[39mself\u001b[39;49m\u001b[39m.\u001b[39;49msearch(ind \u001b[39m=\u001b[39;49m subpop[idx], population\u001b[39m=\u001b[39;49m population)\n\u001b[0;32m    <a href='file:///d%3A/OneDrive%20-%20Hanoi%20University%20of%20Science%20and%20Technology/My_self/Work/Lab/Code_Lab/KM-MSO/Origin_Branch/MFEA_MSO/MFEA_lib/model/Gauss_Try.py?line=236'>237</a>\u001b[0m     \u001b[39mif\u001b[39;00m new_ind\u001b[39m.\u001b[39mfcost \u001b[39m<\u001b[39m subpop[idx]\u001b[39m.\u001b[39mfcost: \n\u001b[0;32m    <a href='file:///d%3A/OneDrive%20-%20Hanoi%20University%20of%20Science%20and%20Technology/My_self/Work/Lab/Code_Lab/KM-MSO/Origin_Branch/MFEA_MSO/MFEA_lib/model/Gauss_Try.py?line=237'>238</a>\u001b[0m         subpop\u001b[39m.\u001b[39mls_inds[idx] \u001b[39m=\u001b[39m new_ind\n",
      "File \u001b[1;32md:\\OneDrive - Hanoi University of Science and Technology\\My_self\\Work\\Lab\\Code_Lab\\KM-MSO\\Origin_Branch\\MFEA_MSO\\MFEA_lib\\operators\\Search.py:85\u001b[0m, in \u001b[0;36mSHADE.__call__\u001b[1;34m(self, ind, population, *args, **kwargs)\u001b[0m\n\u001b[0;32m     <a href='file:///d%3A/OneDrive%20-%20Hanoi%20University%20of%20Science%20and%20Technology/My_self/Work/Lab/Code_Lab/KM-MSO/Origin_Branch/MFEA_MSO/MFEA_lib/operators/Search.py?line=82'>83</a>\u001b[0m ind_best \u001b[39m=\u001b[39m population\u001b[39m.\u001b[39m__getIndsTask__(ind\u001b[39m.\u001b[39mskill_factor, \u001b[39mtype\u001b[39m \u001b[39m=\u001b[39m \u001b[39mself\u001b[39m\u001b[39m.\u001b[39mp_best_type, p_ontop\u001b[39m=\u001b[39m \u001b[39mself\u001b[39m\u001b[39m.\u001b[39mp_ontop, tournament_size\u001b[39m=\u001b[39m \u001b[39mself\u001b[39m\u001b[39m.\u001b[39mtournament_size)\n\u001b[0;32m     <a href='file:///d%3A/OneDrive%20-%20Hanoi%20University%20of%20Science%20and%20Technology/My_self/Work/Lab/Code_Lab/KM-MSO/Origin_Branch/MFEA_MSO/MFEA_lib/operators/Search.py?line=83'>84</a>\u001b[0m \u001b[39mwhile\u001b[39;00m ind_best \u001b[39mis\u001b[39;00m ind:\n\u001b[1;32m---> <a href='file:///d%3A/OneDrive%20-%20Hanoi%20University%20of%20Science%20and%20Technology/My_self/Work/Lab/Code_Lab/KM-MSO/Origin_Branch/MFEA_MSO/MFEA_lib/operators/Search.py?line=84'>85</a>\u001b[0m     ind_best \u001b[39m=\u001b[39m population\u001b[39m.\u001b[39;49m__getIndsTask__(ind\u001b[39m.\u001b[39;49mskill_factor, \u001b[39mtype\u001b[39;49m \u001b[39m=\u001b[39;49m \u001b[39mself\u001b[39;49m\u001b[39m.\u001b[39;49mp_best_type, p_ontop\u001b[39m=\u001b[39;49m \u001b[39mself\u001b[39;49m\u001b[39m.\u001b[39;49mp_ontop, tournament_size\u001b[39m=\u001b[39;49m \u001b[39mself\u001b[39;49m\u001b[39m.\u001b[39;49mtournament_size)\n\u001b[0;32m     <a href='file:///d%3A/OneDrive%20-%20Hanoi%20University%20of%20Science%20and%20Technology/My_self/Work/Lab/Code_Lab/KM-MSO/Origin_Branch/MFEA_MSO/MFEA_lib/operators/Search.py?line=87'>88</a>\u001b[0m k \u001b[39m=\u001b[39m np\u001b[39m.\u001b[39mrandom\u001b[39m.\u001b[39mchoice(\u001b[39mself\u001b[39m\u001b[39m.\u001b[39mlen_mem)\n\u001b[0;32m     <a href='file:///d%3A/OneDrive%20-%20Hanoi%20University%20of%20Science%20and%20Technology/My_self/Work/Lab/Code_Lab/KM-MSO/Origin_Branch/MFEA_MSO/MFEA_lib/operators/Search.py?line=88'>89</a>\u001b[0m cr \u001b[39m=\u001b[39m np\u001b[39m.\u001b[39mclip(np\u001b[39m.\u001b[39mrandom\u001b[39m.\u001b[39mnormal(loc \u001b[39m=\u001b[39m \u001b[39mself\u001b[39m\u001b[39m.\u001b[39mM_cr[ind\u001b[39m.\u001b[39mskill_factor][k], scale \u001b[39m=\u001b[39m \u001b[39m0.1\u001b[39m), \u001b[39m0\u001b[39m, \u001b[39m1\u001b[39m)\n",
      "File \u001b[1;32md:\\OneDrive - Hanoi University of Science and Technology\\My_self\\Work\\Lab\\Code_Lab\\KM-MSO\\Origin_Branch\\MFEA_MSO\\MFEA_lib\\EA.py:275\u001b[0m, in \u001b[0;36mPopulation.__getIndsTask__\u001b[1;34m(self, idx_task, size, replace, type, tournament_size, p_ontop, *args, **kwargs)\u001b[0m\n\u001b[0;32m    <a href='file:///d%3A/OneDrive%20-%20Hanoi%20University%20of%20Science%20and%20Technology/My_self/Work/Lab/Code_Lab/KM-MSO/Origin_Branch/MFEA_MSO/MFEA_lib/EA.py?line=271'>272</a>\u001b[0m         \u001b[39mreturn\u001b[39;00m [ls_inds[i] \u001b[39mfor\u001b[39;00m i \u001b[39min\u001b[39;00m idx_inds[:size]] \n\u001b[0;32m    <a href='file:///d%3A/OneDrive%20-%20Hanoi%20University%20of%20Science%20and%20Technology/My_self/Work/Lab/Code_Lab/KM-MSO/Origin_Branch/MFEA_MSO/MFEA_lib/EA.py?line=273'>274</a>\u001b[0m \u001b[39melif\u001b[39;00m \u001b[39mtype\u001b[39m \u001b[39m==\u001b[39m \u001b[39m'\u001b[39m\u001b[39montop\u001b[39m\u001b[39m'\u001b[39m:\n\u001b[1;32m--> <a href='file:///d%3A/OneDrive%20-%20Hanoi%20University%20of%20Science%20and%20Technology/My_self/Work/Lab/Code_Lab/KM-MSO/Origin_Branch/MFEA_MSO/MFEA_lib/EA.py?line=274'>275</a>\u001b[0m     idx_inds \u001b[39m=\u001b[39m np\u001b[39m.\u001b[39;49mwhere(\u001b[39mself\u001b[39;49m\u001b[39m.\u001b[39;49mls_subPop[idx_task]\u001b[39m.\u001b[39;49mfactorial_rank \u001b[39m<\u001b[39;49m\u001b[39m=\u001b[39;49m p_ontop \u001b[39m*\u001b[39;49m \u001b[39mlen\u001b[39;49m(\u001b[39mself\u001b[39;49m[idx_task]))[\u001b[39m0\u001b[39m]\n\u001b[0;32m    <a href='file:///d%3A/OneDrive%20-%20Hanoi%20University%20of%20Science%20and%20Technology/My_self/Work/Lab/Code_Lab/KM-MSO/Origin_Branch/MFEA_MSO/MFEA_lib/EA.py?line=275'>276</a>\u001b[0m     \u001b[39mif\u001b[39;00m size \u001b[39m==\u001b[39m \u001b[39mNone\u001b[39;00m:\n\u001b[0;32m    <a href='file:///d%3A/OneDrive%20-%20Hanoi%20University%20of%20Science%20and%20Technology/My_self/Work/Lab/Code_Lab/KM-MSO/Origin_Branch/MFEA_MSO/MFEA_lib/EA.py?line=276'>277</a>\u001b[0m         \u001b[39mreturn\u001b[39;00m \u001b[39mself\u001b[39m\u001b[39m.\u001b[39mls_subPop[idx_task]\u001b[39m.\u001b[39mls_inds[\n\u001b[0;32m    <a href='file:///d%3A/OneDrive%20-%20Hanoi%20University%20of%20Science%20and%20Technology/My_self/Work/Lab/Code_Lab/KM-MSO/Origin_Branch/MFEA_MSO/MFEA_lib/EA.py?line=277'>278</a>\u001b[0m             np\u001b[39m.\u001b[39mrandom\u001b[39m.\u001b[39mchoice(idx_inds, size \u001b[39m=\u001b[39m \u001b[39mNone\u001b[39;00m, replace\u001b[39m=\u001b[39m replace)\n\u001b[0;32m    <a href='file:///d%3A/OneDrive%20-%20Hanoi%20University%20of%20Science%20and%20Technology/My_self/Work/Lab/Code_Lab/KM-MSO/Origin_Branch/MFEA_MSO/MFEA_lib/EA.py?line=278'>279</a>\u001b[0m         ]\n",
      "File \u001b[1;32m<__array_function__ internals>:177\u001b[0m, in \u001b[0;36mwhere\u001b[1;34m(*args, **kwargs)\u001b[0m\n",
      "\u001b[1;31mKeyboardInterrupt\u001b[0m: "
     ]
    }
   ],
   "source": [
    "cec17_10tasks = gecco20\n",
    "\n",
    "gauss_try_model = Gauss_Try.model(seed = 3)\n",
    "gauss_try_model.compile(\n",
    "    tasks= cec17_10tasks, \n",
    "    crossover= SBX_Crossover(nc= 2),\n",
    "    mutation= PolynomialMutation(nm = 5), \n",
    "    selection= SelectionAHalf(ontop = 1.0),\n",
    "    search= SHADE(len_mem=30, p_ontop=0.1)\n",
    "    # selection = ElitismSelection()\n",
    ")\n",
    "\n",
    "solve, p_matrix, de_thanh_cong,sbx_thanh_cong, sbx_khong_thanh_cong  = gauss_try_model.fit(\n",
    "    max_inds_each_task= list(np.zeros(shape= (len(cec17_10tasks),), dtype= int) + 100),\n",
    "    min_inds_each_task= list(np.zeros(shape= (len(cec17_10tasks),), dtype= int) + 20),\n",
    "    max_eval_each_task= list(np.zeros(shape= (len(cec17_10tasks,)), dtype= int) + 1000 * 100 ),\n",
    "    log_oneline= True,\n",
    "    num_epochs_printed= 1,\n",
    "    evaluate_initial_skillFactor= True,\n",
    "    LSA= True\n",
    ")"
   ]
  },
  {
   "cell_type": "code",
   "execution_count": null,
   "metadata": {},
   "outputs": [],
   "source": [
    "cec17_10tasks[0].func(solve[0])\n",
    "print(solve[0][1])"
   ]
  },
  {
   "cell_type": "code",
   "execution_count": null,
   "metadata": {},
   "outputs": [],
   "source": [
    "print([ind.fcost for ind in solve])"
   ]
  },
  {
   "cell_type": "code",
   "execution_count": null,
   "metadata": {},
   "outputs": [],
   "source": [
    "import matplotlib.pyplot as plt \n",
    "plt.figure(figsize= (20,10)) \n",
    "def render_rmp(p_matrix, shape = None, title = None, figsize = None, dpi = 200, step = 1, get_host = False):\n",
    "        if figsize is None:\n",
    "            figsize = (30, 30)\n",
    "      \n",
    "        if shape is None:\n",
    "            shape = (int(np.ceil(10 / 3)), 3)\n",
    "        else:\n",
    "            assert shape[0] * shape[1] >= 10\n",
    "        fig = plt.figure(figsize= figsize, dpi = dpi)\n",
    "        fig.suptitle(title, size = 15)\n",
    "        fig.set_facecolor(\"white\")\n",
    "\n",
    "        if not get_host:\n",
    "            his_rmp = np.copy(p_matrix)\n",
    "            for i in range(10):\n",
    "                his_rmp[:, i, i] -= 0.5\n",
    "            y_lim = (-0.05, 0.55)\n",
    "        else:\n",
    "            his_rmp = np.copy(p_matrix)\n",
    "            y_lim = (-0.1, 1.1)\n",
    "\n",
    "        for i in range (10):\n",
    "            plt.subplot(shape[0], shape[1], i + 1)\n",
    "            plt.stackplot(\n",
    "                np.append(np.arange(0, len(his_rmp), step), np.array([len(his_rmp) - 1])),\n",
    "                [his_rmp[\n",
    "                    np.append(np.arange(0, len(his_rmp), step), np.array([len(his_rmp) - 1])), \n",
    "                    i, t] for t in range(10)],\n",
    "                labels = ['task' + str(i + 1) for i in range(10)]\n",
    "            )\n",
    "\n",
    "            plt.legend()\n",
    "            plt.title('task ' + str( i + 1))\n",
    "            plt.xlabel(\"Epoch\")\n",
    "            plt.ylabel(\"M_rmp\")\n",
    "            plt.ylim(bottom = y_lim[0], top = y_lim[1])\n",
    "        return fig\n",
    "\n",
    "render_rmp(p_matrix, get_host= True)\n",
    "print()"
   ]
  },
  {
   "cell_type": "code",
   "execution_count": null,
   "metadata": {},
   "outputs": [],
   "source": [
    "de_thanh_cong"
   ]
  },
  {
   "cell_type": "code",
   "execution_count": null,
   "metadata": {},
   "outputs": [],
   "source": [
    "print(len(p_matrix))"
   ]
  },
  {
   "cell_type": "code",
   "execution_count": null,
   "metadata": {},
   "outputs": [],
   "source": [
    "gauss_try_model.render_history(shape= (2,5), yscale='log')"
   ]
  },
  {
   "cell_type": "code",
   "execution_count": null,
   "metadata": {},
   "outputs": [],
   "source": [
    "perModel = per_MFEA_V2.model()\n",
    "perModel.compile(\n",
    "    tasks= cec17_10tasks,\n",
    "    crossover= SBX_Crossover(nc = 2),\n",
    "    # crossover= newSBX(nc = 2, gamma= 0.4, alpha = 6),\n",
    "    mutation= NoMutation(),\n",
    "    # mutation = GMDScale(rate = 1),\n",
    "    selection= ElitismSelection(random_percent= 0.),\n",
    "    # selection= SelectionAHalf(ontop = 0.9)\n",
    "    # selection= TournamentSelection(k = 50),\n",
    ")\n",
    "\n",
    "\n",
    "solve = perModel.fit(\n",
    "    nb_generations= 1000, nb_inds_each_task= 100, nb_inds_min= 20,\n",
    "    lr = 1.5, p_const_intra= 0.3, \n",
    "    nb_epochs_stop= 1000,\n",
    "    evaluate_initial_skillFactor= True\n",
    ")\n"
   ]
  },
  {
   "cell_type": "code",
   "execution_count": null,
   "metadata": {},
   "outputs": [],
   "source": [
    "perModel = per_MFEA.model()\n",
    "perModel.compile(\n",
    "    tasks= cec17_10tasks,\n",
    "    crossover= SBX_Crossover(nc = 2),\n",
    "    # crossover= newSBX(nc = 2, gamma= 0.4, alpha = 6),\n",
    "    mutation= NoMutation(),\n",
    "    # mutation = GMDScale(rate = 1),\n",
    "    selection= ElitismSelection(random_percent= 0.),\n",
    "    # selection= TournamentSelection(k = 50),\n",
    ")\n",
    "solve = perModel.fit(\n",
    "    nb_generations= 1000, nb_inds_each_task= 100, nb_inds_min= 20,\n",
    "    lr = 1.5, p_const_intra= 0.3, \n",
    "    nb_epochs_stop= 100,\n",
    "    evaluate_initial_skillFactor= True\n",
    ")"
   ]
  },
  {
   "cell_type": "code",
   "execution_count": null,
   "metadata": {},
   "outputs": [],
   "source": [
    "import matplotlib.pyplot as plt \n",
    "plt.figure(figsize= (20,10)) \n",
    "def render_rmp(p_matrix, shape = None, title = None, figsize = None, dpi = 200, step = 1, get_host = False):\n",
    "        if figsize is None:\n",
    "            figsize = (30, 30)\n",
    "      \n",
    "        if shape is None:\n",
    "            shape = (int(np.ceil(10 / 3)), 3)\n",
    "        else:\n",
    "            assert shape[0] * shape[1] >= 10\n",
    "        fig = plt.figure(figsize= figsize, dpi = dpi)\n",
    "        fig.suptitle(title, size = 15)\n",
    "        fig.set_facecolor(\"white\")\n",
    "\n",
    "        if not get_host:\n",
    "            his_rmp = np.copy(p_matrix)\n",
    "            for i in range(10):\n",
    "                his_rmp[:, i, i] -= 0.5\n",
    "            y_lim = (-0.05, 0.55)\n",
    "        else:\n",
    "            his_rmp = np.copy(p_matrix)\n",
    "            y_lim = (-0.1, 1.1)\n",
    "\n",
    "        for i in range (10):\n",
    "            plt.subplot(shape[0], shape[1], i + 1)\n",
    "            plt.stackplot(\n",
    "                np.append(np.arange(0, len(his_rmp), step), np.array([len(his_rmp) - 1])),\n",
    "                [his_rmp[\n",
    "                    np.append(np.arange(0, len(his_rmp), step), np.array([len(his_rmp) - 1])), \n",
    "                    i, t] for t in range(10)],\n",
    "                labels = ['task' + str(i + 1) for i in range(10)]\n",
    "            )\n",
    "\n",
    "            plt.legend()\n",
    "            plt.title('task ' + str( i + 1))\n",
    "            plt.xlabel(\"Epoch\")\n",
    "            plt.ylabel(\"M_rmp\")\n",
    "            plt.ylim(bottom = y_lim[0], top = y_lim[1])\n",
    "        return fig\n",
    "\n",
    "render_rmp(p_matrix, get_host= True)"
   ]
  }
 ],
 "metadata": {
  "kernelspec": {
   "display_name": "Python 3.8.0 ('mfea_env')",
   "language": "python",
   "name": "python3"
  },
  "language_info": {
   "codemirror_mode": {
    "name": "ipython",
    "version": 3
   },
   "file_extension": ".py",
   "mimetype": "text/x-python",
   "name": "python",
   "nbconvert_exporter": "python",
   "pygments_lexer": "ipython3",
   "version": "3.8.0"
  },
  "orig_nbformat": 4,
  "vscode": {
   "interpreter": {
    "hash": "2b460941872a717c6800a0acfdd28208e979ccc5975906429c667738a8ea77cb"
   }
  }
 },
 "nbformat": 4,
 "nbformat_minor": 2
}
