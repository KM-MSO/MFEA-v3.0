{
 "cells": [
  {
   "cell_type": "code",
   "execution_count": 1,
   "metadata": {},
   "outputs": [],
   "source": [
    "from MFEA_lib.model import SMP_MFEA, GA, MFEA1, MFEA_base\n",
    "from MFEA_lib.model.utils import *\n",
    "from MFEA_lib.operators.Crossover import *\n",
    "from MFEA_lib.operators.Mutation import *\n",
    "from MFEA_lib.operators.Selection import *\n",
    "from MFEA_lib.operators.Search import *\n",
    "from MFEA_lib.tasks.Benchmark.Competitions import CEC17_benchmark, GECCO20_benchmark_50tasks, WCCI22_benchmark\n"
   ]
  },
  {
   "attachments": {},
   "cell_type": "markdown",
   "metadata": {},
   "source": [
    "### GA"
   ]
  },
  {
   "cell_type": "code",
   "execution_count": 18,
   "metadata": {},
   "outputs": [
    {
     "name": "stdout",
     "output_type": "stream",
     "text": [
      "Seed: 0 -- Time: 00m 12.24s  100 % [====================>]  Cost: 7.83E-16  ,  \n",
      "END!\n",
      "DONE!\n",
      "Saved\n",
      "Seed: 0 -- Time: 00m 7.82s  100 % [====================>]  Cost: 3.77E-16  ,  \n",
      "END!\n",
      "DONE!\n",
      "Saved\n",
      "Seed: 0 -- Time: 00m 6.73s  100 % [====================>]  Cost: 5.81E-16  ,  \n",
      "END!\n",
      "DONE!\n",
      "Saved\n",
      "Seed: 0 -- Time: 00m 13.08s  100 % [====================>]  Cost: 0.00E+00  ,  \n",
      "END!\n",
      "DONE!\n",
      "Saved\n",
      "Seed: 0 -- Time: 00m 5.05s  100 % [====================>]  Cost: 4.72E+01  ,  \n",
      "END!\n",
      "DONE!\n",
      "Saved\n",
      "Seed: 0 -- Time: 00m 9.82s  100 % [====================>]  Cost: 2.00E+01  ,  \n",
      "END!\n",
      "DONE!\n",
      "Saved\n",
      "Seed: 0 -- Time: 00m 23.16s  100 % [====================>]  Cost: 4.53E-11  ,  \n",
      "END!\n",
      "DONE!\n",
      "Saved\n",
      "Seed: 0 -- Time: 00m 8.58s  100 % [====================>]  Cost: 3.01E+03  ,  \n",
      "END!\n",
      "DONE!\n",
      "Saved\n",
      "Seed: 0 -- Time: 00m 7.67s  100 % [====================>]  Cost: 0.00E+00  ,  \n",
      "END!\n",
      "DONE!\n",
      "Saved\n",
      "Seed: 0 -- Time: 00m 11.91s  100 % [====================>]  Cost: 4.78E+01  ,  \n",
      "END!\n",
      "DONE!\n",
      "Saved\n"
     ]
    }
   ],
   "source": [
    "task_id =  4\n",
    "\n",
    "for task_id in range(0, 10):\n",
    "    # cec17\n",
    "    t, ic = CEC17_benchmark.get_10tasks_benchmark()\n",
    "\n",
    "    ls_benchmark = [[t[task_id]]]\n",
    "    ls_IndClass = [ic]\n",
    "    name_benchmark = [\"cec17_\" + str(task_id)]\n",
    "\n",
    "    path = './RESULTS/result/CEC17_10tasks/GA/'\n",
    "\n",
    "    smpModel = MultiBenchmark(\n",
    "        ls_benchmark= ls_benchmark,\n",
    "        name_benchmark= name_benchmark,\n",
    "        ls_IndClass= ls_IndClass,\n",
    "        model= GA\n",
    "    )\n",
    "    smpModel.compile( \n",
    "        # crossover = KL_SBXCrossover(nc= 2, u= 0.001, conf_thres= 1),\n",
    "        crossover = SBX_Crossover(nc = 2),\n",
    "        mutation = PolynomialMutation(nm = 5, pm= 1),\n",
    "        selection= ElitismSelection(random_percent= 0),\n",
    "        attr_tasks = ['crossover', 'mutation',],\n",
    "    )\n",
    "    smpModel.fit(\n",
    "        nb_generations= 1000, nb_inds_each_task= 100, mutation_rate= 0.1,\n",
    "        evaluate_initial_skillFactor= True\n",
    "    )\n",
    "    a = smpModel.run(\n",
    "        nb_run= 1,     \n",
    "        save_path= path\n",
    "    )"
   ]
  },
  {
   "attachments": {},
   "cell_type": "markdown",
   "metadata": {},
   "source": [
    "### MFEA"
   ]
  },
  {
   "cell_type": "code",
   "execution_count": 2,
   "metadata": {},
   "outputs": [],
   "source": [
    "# tasks, IndClass = CEC17_benchmark.get_2tasks_benchmark(1)\n",
    "# tasks, IndClass = WCCI22_benchmark.get_complex_benchmark(1)\n",
    "tasks, IndClass = CEC17_benchmark.get_10tasks_benchmark()"
   ]
  },
  {
   "cell_type": "code",
   "execution_count": 4,
   "metadata": {},
   "outputs": [
    {
     "name": "stdout",
     "output_type": "stream",
     "text": [
      "Seed: None -- Time: 01m 9.96s  100 % [====================>]  Cost: 2.81E-12  1.16E-12  1.94E-17  0.00E+00  3.43E-10  3.48E-07  1.32E-07  6.36E-04  2.07E-13  3.28E+01  ,  \n",
      "END!\n"
     ]
    }
   ],
   "source": [
    "baseModel = MFEA1.model()\n",
    "baseModel.compile(\n",
    "    IndClass= IndClass,\n",
    "    tasks= tasks,\n",
    "    # crossover = KL_SBXCrossover(nc= 2, k= 100, conf_thres= 1),\n",
    "    crossover= SBX_Crossover(nc = 2),\n",
    "    mutation= PolynomialMutation(nm = 5),\n",
    "    selection= ElitismSelection()\n",
    ")\n",
    "solve = baseModel.fit(\n",
    "    nb_generations = 1000, rmp = 0.3,mutation_rate=0.1, nb_inds_each_task= 100, \n",
    "    bound_pop= [0, 1], evaluate_initial_skillFactor= True\n",
    ")"
   ]
  }
 ],
 "metadata": {
  "kernelspec": {
   "display_name": "env",
   "language": "python",
   "name": "python3"
  },
  "language_info": {
   "codemirror_mode": {
    "name": "ipython",
    "version": 3
   },
   "file_extension": ".py",
   "mimetype": "text/x-python",
   "name": "python",
   "nbconvert_exporter": "python",
   "pygments_lexer": "ipython3",
   "version": "3.10.8"
  },
  "orig_nbformat": 4,
  "vscode": {
   "interpreter": {
    "hash": "5d65defc72f4befd83d661e3731a69e58a9e5bbddaeb1718f6eb5d942cd807b9"
   }
  }
 },
 "nbformat": 4,
 "nbformat_minor": 2
}
